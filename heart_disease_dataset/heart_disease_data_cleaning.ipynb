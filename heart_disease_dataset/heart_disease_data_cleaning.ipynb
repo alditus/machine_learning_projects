{
 "cells": [
  {
   "cell_type": "code",
   "execution_count": 268,
   "id": "e09a3b1d-45c5-4cd4-9eee-9e16a13aee82",
   "metadata": {
    "tags": []
   },
   "outputs": [],
   "source": [
    "import pandas as pd\n",
    "import seaborn as sns\n",
    "import numpy as np\n",
    "# import plotly.express as px\n",
    "from matplotlib import pyplot as plt"
   ]
  },
  {
   "cell_type": "code",
   "execution_count": 2,
   "id": "0a994ce3-45f3-4ff0-80f8-c5d8b3143d14",
   "metadata": {
    "tags": []
   },
   "outputs": [],
   "source": [
    "dataset = pd.read_csv('heart.csv')"
   ]
  },
  {
   "cell_type": "code",
   "execution_count": 3,
   "id": "5d9c26cf-133b-4894-bb5b-d53bbd849b81",
   "metadata": {
    "tags": []
   },
   "outputs": [
    {
     "data": {
      "text/html": [
       "<div>\n",
       "<style scoped>\n",
       "    .dataframe tbody tr th:only-of-type {\n",
       "        vertical-align: middle;\n",
       "    }\n",
       "\n",
       "    .dataframe tbody tr th {\n",
       "        vertical-align: top;\n",
       "    }\n",
       "\n",
       "    .dataframe thead th {\n",
       "        text-align: right;\n",
       "    }\n",
       "</style>\n",
       "<table border=\"1\" class=\"dataframe\">\n",
       "  <thead>\n",
       "    <tr style=\"text-align: right;\">\n",
       "      <th></th>\n",
       "      <th>Age</th>\n",
       "      <th>Sex</th>\n",
       "      <th>ChestPainType</th>\n",
       "      <th>RestingBP</th>\n",
       "      <th>Cholesterol</th>\n",
       "      <th>FastingBS</th>\n",
       "      <th>RestingECG</th>\n",
       "      <th>MaxHR</th>\n",
       "      <th>ExerciseAngina</th>\n",
       "      <th>Oldpeak</th>\n",
       "      <th>ST_Slope</th>\n",
       "      <th>HeartDisease</th>\n",
       "    </tr>\n",
       "  </thead>\n",
       "  <tbody>\n",
       "    <tr>\n",
       "      <th>0</th>\n",
       "      <td>40</td>\n",
       "      <td>M</td>\n",
       "      <td>ATA</td>\n",
       "      <td>140</td>\n",
       "      <td>289</td>\n",
       "      <td>0</td>\n",
       "      <td>Normal</td>\n",
       "      <td>172</td>\n",
       "      <td>N</td>\n",
       "      <td>0.0</td>\n",
       "      <td>Up</td>\n",
       "      <td>0</td>\n",
       "    </tr>\n",
       "    <tr>\n",
       "      <th>1</th>\n",
       "      <td>49</td>\n",
       "      <td>F</td>\n",
       "      <td>NAP</td>\n",
       "      <td>160</td>\n",
       "      <td>180</td>\n",
       "      <td>0</td>\n",
       "      <td>Normal</td>\n",
       "      <td>156</td>\n",
       "      <td>N</td>\n",
       "      <td>1.0</td>\n",
       "      <td>Flat</td>\n",
       "      <td>1</td>\n",
       "    </tr>\n",
       "    <tr>\n",
       "      <th>2</th>\n",
       "      <td>37</td>\n",
       "      <td>M</td>\n",
       "      <td>ATA</td>\n",
       "      <td>130</td>\n",
       "      <td>283</td>\n",
       "      <td>0</td>\n",
       "      <td>ST</td>\n",
       "      <td>98</td>\n",
       "      <td>N</td>\n",
       "      <td>0.0</td>\n",
       "      <td>Up</td>\n",
       "      <td>0</td>\n",
       "    </tr>\n",
       "    <tr>\n",
       "      <th>3</th>\n",
       "      <td>48</td>\n",
       "      <td>F</td>\n",
       "      <td>ASY</td>\n",
       "      <td>138</td>\n",
       "      <td>214</td>\n",
       "      <td>0</td>\n",
       "      <td>Normal</td>\n",
       "      <td>108</td>\n",
       "      <td>Y</td>\n",
       "      <td>1.5</td>\n",
       "      <td>Flat</td>\n",
       "      <td>1</td>\n",
       "    </tr>\n",
       "    <tr>\n",
       "      <th>4</th>\n",
       "      <td>54</td>\n",
       "      <td>M</td>\n",
       "      <td>NAP</td>\n",
       "      <td>150</td>\n",
       "      <td>195</td>\n",
       "      <td>0</td>\n",
       "      <td>Normal</td>\n",
       "      <td>122</td>\n",
       "      <td>N</td>\n",
       "      <td>0.0</td>\n",
       "      <td>Up</td>\n",
       "      <td>0</td>\n",
       "    </tr>\n",
       "    <tr>\n",
       "      <th>...</th>\n",
       "      <td>...</td>\n",
       "      <td>...</td>\n",
       "      <td>...</td>\n",
       "      <td>...</td>\n",
       "      <td>...</td>\n",
       "      <td>...</td>\n",
       "      <td>...</td>\n",
       "      <td>...</td>\n",
       "      <td>...</td>\n",
       "      <td>...</td>\n",
       "      <td>...</td>\n",
       "      <td>...</td>\n",
       "    </tr>\n",
       "    <tr>\n",
       "      <th>913</th>\n",
       "      <td>45</td>\n",
       "      <td>M</td>\n",
       "      <td>TA</td>\n",
       "      <td>110</td>\n",
       "      <td>264</td>\n",
       "      <td>0</td>\n",
       "      <td>Normal</td>\n",
       "      <td>132</td>\n",
       "      <td>N</td>\n",
       "      <td>1.2</td>\n",
       "      <td>Flat</td>\n",
       "      <td>1</td>\n",
       "    </tr>\n",
       "    <tr>\n",
       "      <th>914</th>\n",
       "      <td>68</td>\n",
       "      <td>M</td>\n",
       "      <td>ASY</td>\n",
       "      <td>144</td>\n",
       "      <td>193</td>\n",
       "      <td>1</td>\n",
       "      <td>Normal</td>\n",
       "      <td>141</td>\n",
       "      <td>N</td>\n",
       "      <td>3.4</td>\n",
       "      <td>Flat</td>\n",
       "      <td>1</td>\n",
       "    </tr>\n",
       "    <tr>\n",
       "      <th>915</th>\n",
       "      <td>57</td>\n",
       "      <td>M</td>\n",
       "      <td>ASY</td>\n",
       "      <td>130</td>\n",
       "      <td>131</td>\n",
       "      <td>0</td>\n",
       "      <td>Normal</td>\n",
       "      <td>115</td>\n",
       "      <td>Y</td>\n",
       "      <td>1.2</td>\n",
       "      <td>Flat</td>\n",
       "      <td>1</td>\n",
       "    </tr>\n",
       "    <tr>\n",
       "      <th>916</th>\n",
       "      <td>57</td>\n",
       "      <td>F</td>\n",
       "      <td>ATA</td>\n",
       "      <td>130</td>\n",
       "      <td>236</td>\n",
       "      <td>0</td>\n",
       "      <td>LVH</td>\n",
       "      <td>174</td>\n",
       "      <td>N</td>\n",
       "      <td>0.0</td>\n",
       "      <td>Flat</td>\n",
       "      <td>1</td>\n",
       "    </tr>\n",
       "    <tr>\n",
       "      <th>917</th>\n",
       "      <td>38</td>\n",
       "      <td>M</td>\n",
       "      <td>NAP</td>\n",
       "      <td>138</td>\n",
       "      <td>175</td>\n",
       "      <td>0</td>\n",
       "      <td>Normal</td>\n",
       "      <td>173</td>\n",
       "      <td>N</td>\n",
       "      <td>0.0</td>\n",
       "      <td>Up</td>\n",
       "      <td>0</td>\n",
       "    </tr>\n",
       "  </tbody>\n",
       "</table>\n",
       "<p>918 rows × 12 columns</p>\n",
       "</div>"
      ],
      "text/plain": [
       "     Age Sex ChestPainType  RestingBP  Cholesterol  FastingBS RestingECG  \\\n",
       "0     40   M           ATA        140          289          0     Normal   \n",
       "1     49   F           NAP        160          180          0     Normal   \n",
       "2     37   M           ATA        130          283          0         ST   \n",
       "3     48   F           ASY        138          214          0     Normal   \n",
       "4     54   M           NAP        150          195          0     Normal   \n",
       "..   ...  ..           ...        ...          ...        ...        ...   \n",
       "913   45   M            TA        110          264          0     Normal   \n",
       "914   68   M           ASY        144          193          1     Normal   \n",
       "915   57   M           ASY        130          131          0     Normal   \n",
       "916   57   F           ATA        130          236          0        LVH   \n",
       "917   38   M           NAP        138          175          0     Normal   \n",
       "\n",
       "     MaxHR ExerciseAngina  Oldpeak ST_Slope  HeartDisease  \n",
       "0      172              N      0.0       Up             0  \n",
       "1      156              N      1.0     Flat             1  \n",
       "2       98              N      0.0       Up             0  \n",
       "3      108              Y      1.5     Flat             1  \n",
       "4      122              N      0.0       Up             0  \n",
       "..     ...            ...      ...      ...           ...  \n",
       "913    132              N      1.2     Flat             1  \n",
       "914    141              N      3.4     Flat             1  \n",
       "915    115              Y      1.2     Flat             1  \n",
       "916    174              N      0.0     Flat             1  \n",
       "917    173              N      0.0       Up             0  \n",
       "\n",
       "[918 rows x 12 columns]"
      ]
     },
     "execution_count": 3,
     "metadata": {},
     "output_type": "execute_result"
    }
   ],
   "source": [
    "dataset"
   ]
  },
  {
   "cell_type": "markdown",
   "id": "ebb26fd8-ac2f-4a42-aed3-e1bcc8b6dfd0",
   "metadata": {},
   "source": [
    "### What are the features (variables) in the dataset?  \n",
    "The features availablle in this dataset are the following:  \n",
    "* Age\n",
    "* Sex\n",
    "* ChestPainType\n",
    "* RestingBP\n",
    "* Cholesterol\n",
    "* FastingBS\n",
    "* RestingECG\n",
    "* MaxHR\n",
    "* ExerciseAngina\n",
    "* Oldpeak\n",
    "* ST_Slope\n",
    "* HeartDisease"
   ]
  },
  {
   "cell_type": "code",
   "execution_count": 17,
   "id": "65f4fa13-057b-41f2-8d46-7c8b0890062d",
   "metadata": {
    "tags": []
   },
   "outputs": [
    {
     "data": {
      "text/plain": [
       "(918, 12)"
      ]
     },
     "execution_count": 17,
     "metadata": {},
     "output_type": "execute_result"
    }
   ],
   "source": [
    "dataset.shape"
   ]
  },
  {
   "cell_type": "markdown",
   "id": "fc3042fd-9d47-4e97-b5e0-d4ea0e535aaf",
   "metadata": {},
   "source": [
    "#### Let's check our features datatype and if there are some missing values  \n",
    "There are 918 samples in this dataset, each of them with 11 features and 1 target value  \n",
    "In this case, the datatypes match the values of each feature so we don't need to cast their types.  \n",
    "We can also observe that there are not missing values in the columns. "
   ]
  },
  {
   "cell_type": "code",
   "execution_count": 4,
   "id": "8c5d24d7-a5f7-42bc-85e3-edfa60ac085f",
   "metadata": {
    "tags": []
   },
   "outputs": [
    {
     "name": "stdout",
     "output_type": "stream",
     "text": [
      "<class 'pandas.core.frame.DataFrame'>\n",
      "RangeIndex: 918 entries, 0 to 917\n",
      "Data columns (total 12 columns):\n",
      " #   Column          Non-Null Count  Dtype  \n",
      "---  ------          --------------  -----  \n",
      " 0   Age             918 non-null    int64  \n",
      " 1   Sex             918 non-null    object \n",
      " 2   ChestPainType   918 non-null    object \n",
      " 3   RestingBP       918 non-null    int64  \n",
      " 4   Cholesterol     918 non-null    int64  \n",
      " 5   FastingBS       918 non-null    int64  \n",
      " 6   RestingECG      918 non-null    object \n",
      " 7   MaxHR           918 non-null    int64  \n",
      " 8   ExerciseAngina  918 non-null    object \n",
      " 9   Oldpeak         918 non-null    float64\n",
      " 10  ST_Slope        918 non-null    object \n",
      " 11  HeartDisease    918 non-null    int64  \n",
      "dtypes: float64(1), int64(6), object(5)\n",
      "memory usage: 86.2+ KB\n"
     ]
    }
   ],
   "source": [
    "dataset.info()"
   ]
  },
  {
   "cell_type": "code",
   "execution_count": 5,
   "id": "521cdaa7-85c5-44c3-8919-28641e5ac1d9",
   "metadata": {
    "tags": []
   },
   "outputs": [
    {
     "data": {
      "text/html": [
       "<div>\n",
       "<style scoped>\n",
       "    .dataframe tbody tr th:only-of-type {\n",
       "        vertical-align: middle;\n",
       "    }\n",
       "\n",
       "    .dataframe tbody tr th {\n",
       "        vertical-align: top;\n",
       "    }\n",
       "\n",
       "    .dataframe thead th {\n",
       "        text-align: right;\n",
       "    }\n",
       "</style>\n",
       "<table border=\"1\" class=\"dataframe\">\n",
       "  <thead>\n",
       "    <tr style=\"text-align: right;\">\n",
       "      <th></th>\n",
       "      <th>Age</th>\n",
       "      <th>RestingBP</th>\n",
       "      <th>Cholesterol</th>\n",
       "      <th>FastingBS</th>\n",
       "      <th>MaxHR</th>\n",
       "      <th>Oldpeak</th>\n",
       "      <th>HeartDisease</th>\n",
       "    </tr>\n",
       "  </thead>\n",
       "  <tbody>\n",
       "    <tr>\n",
       "      <th>count</th>\n",
       "      <td>918.000000</td>\n",
       "      <td>918.000000</td>\n",
       "      <td>918.000000</td>\n",
       "      <td>918.000000</td>\n",
       "      <td>918.000000</td>\n",
       "      <td>918.000000</td>\n",
       "      <td>918.000000</td>\n",
       "    </tr>\n",
       "    <tr>\n",
       "      <th>mean</th>\n",
       "      <td>53.510893</td>\n",
       "      <td>132.396514</td>\n",
       "      <td>198.799564</td>\n",
       "      <td>0.233115</td>\n",
       "      <td>136.809368</td>\n",
       "      <td>0.887364</td>\n",
       "      <td>0.553377</td>\n",
       "    </tr>\n",
       "    <tr>\n",
       "      <th>std</th>\n",
       "      <td>9.432617</td>\n",
       "      <td>18.514154</td>\n",
       "      <td>109.384145</td>\n",
       "      <td>0.423046</td>\n",
       "      <td>25.460334</td>\n",
       "      <td>1.066570</td>\n",
       "      <td>0.497414</td>\n",
       "    </tr>\n",
       "    <tr>\n",
       "      <th>min</th>\n",
       "      <td>28.000000</td>\n",
       "      <td>0.000000</td>\n",
       "      <td>0.000000</td>\n",
       "      <td>0.000000</td>\n",
       "      <td>60.000000</td>\n",
       "      <td>-2.600000</td>\n",
       "      <td>0.000000</td>\n",
       "    </tr>\n",
       "    <tr>\n",
       "      <th>25%</th>\n",
       "      <td>47.000000</td>\n",
       "      <td>120.000000</td>\n",
       "      <td>173.250000</td>\n",
       "      <td>0.000000</td>\n",
       "      <td>120.000000</td>\n",
       "      <td>0.000000</td>\n",
       "      <td>0.000000</td>\n",
       "    </tr>\n",
       "    <tr>\n",
       "      <th>50%</th>\n",
       "      <td>54.000000</td>\n",
       "      <td>130.000000</td>\n",
       "      <td>223.000000</td>\n",
       "      <td>0.000000</td>\n",
       "      <td>138.000000</td>\n",
       "      <td>0.600000</td>\n",
       "      <td>1.000000</td>\n",
       "    </tr>\n",
       "    <tr>\n",
       "      <th>75%</th>\n",
       "      <td>60.000000</td>\n",
       "      <td>140.000000</td>\n",
       "      <td>267.000000</td>\n",
       "      <td>0.000000</td>\n",
       "      <td>156.000000</td>\n",
       "      <td>1.500000</td>\n",
       "      <td>1.000000</td>\n",
       "    </tr>\n",
       "    <tr>\n",
       "      <th>max</th>\n",
       "      <td>77.000000</td>\n",
       "      <td>200.000000</td>\n",
       "      <td>603.000000</td>\n",
       "      <td>1.000000</td>\n",
       "      <td>202.000000</td>\n",
       "      <td>6.200000</td>\n",
       "      <td>1.000000</td>\n",
       "    </tr>\n",
       "  </tbody>\n",
       "</table>\n",
       "</div>"
      ],
      "text/plain": [
       "              Age   RestingBP  Cholesterol   FastingBS       MaxHR  \\\n",
       "count  918.000000  918.000000   918.000000  918.000000  918.000000   \n",
       "mean    53.510893  132.396514   198.799564    0.233115  136.809368   \n",
       "std      9.432617   18.514154   109.384145    0.423046   25.460334   \n",
       "min     28.000000    0.000000     0.000000    0.000000   60.000000   \n",
       "25%     47.000000  120.000000   173.250000    0.000000  120.000000   \n",
       "50%     54.000000  130.000000   223.000000    0.000000  138.000000   \n",
       "75%     60.000000  140.000000   267.000000    0.000000  156.000000   \n",
       "max     77.000000  200.000000   603.000000    1.000000  202.000000   \n",
       "\n",
       "          Oldpeak  HeartDisease  \n",
       "count  918.000000    918.000000  \n",
       "mean     0.887364      0.553377  \n",
       "std      1.066570      0.497414  \n",
       "min     -2.600000      0.000000  \n",
       "25%      0.000000      0.000000  \n",
       "50%      0.600000      1.000000  \n",
       "75%      1.500000      1.000000  \n",
       "max      6.200000      1.000000  "
      ]
     },
     "execution_count": 5,
     "metadata": {},
     "output_type": "execute_result"
    }
   ],
   "source": [
    "dataset.describe()"
   ]
  },
  {
   "cell_type": "markdown",
   "id": "8c42d01a-ff12-458d-9a72-ff327a1cb55f",
   "metadata": {},
   "source": [
    "### What is the distribution of the target variable (heart disease)?  \n",
    "The distribution of the target variable is balanced.  \n",
    "There are **~55%** of positive examples (people that had heart disease)  and **~44%** of negative examples (poeple that didn't have heart disease)  "
   ]
  },
  {
   "cell_type": "code",
   "execution_count": 45,
   "id": "0965e531-d008-45cf-9256-6d490a8e1fb5",
   "metadata": {
    "tags": []
   },
   "outputs": [
    {
     "data": {
      "text/plain": [
       "0.4466230936819172"
      ]
     },
     "execution_count": 45,
     "metadata": {},
     "output_type": "execute_result"
    }
   ],
   "source": [
    "dataset['HeartDisease'].value_counts(normalize=True)[0]"
   ]
  },
  {
   "cell_type": "code",
   "execution_count": 49,
   "id": "e1aea1c9-8045-4191-aebf-3e06125131d1",
   "metadata": {
    "tags": []
   },
   "outputs": [
    {
     "data": {
      "image/png": "[encoded data removed]",
      "text/plain": [
       "<Figure size 640x480 with 1 Axes>"
      ]
     },
     "metadata": {},
     "output_type": "display_data"
    }
   ],
   "source": [
    "# Plot the target data distribution \n",
    "fig, ax = plt.subplots()\n",
    "\n",
    "target = ['Heart Disease', 'No Heart Disease']\n",
    "counts = [dataset['HeartDisease'].value_counts(normalize=True)[1]*100, dataset['HeartDisease'].value_counts(normalize=True)[0]*100]\n",
    "bar_colors = ['tab:red', 'tab:blue']\n",
    "\n",
    "ax.bar(target, counts, label=bar_labels, color=bar_colors)\n",
    "\n",
    "ax.set_ylabel('% of samples for each category')\n",
    "ax.set_title('Heart Disease Distribution in the dataset')\n",
    "\n",
    "plt.show()\n"
   ]
  },
  {
   "cell_type": "markdown",
   "id": "6aa818ef-12a8-4881-a82f-802d9a92e58a",
   "metadata": {},
   "source": [
    "### What is the distribution of categorical features?"
   ]
  },
  {
   "cell_type": "markdown",
   "id": "3446a607-0dc0-4058-ae11-c5ad09d5a697",
   "metadata": {},
   "source": [
    "There are more Male sammples in the dataset than Female. The dataset seems imbalanced based on this feature.  \n",
    "\n",
    "**Number of samples by Sex**  \n",
    "  \n",
    "There are **725 Male** samples and **193 Female** samples"
   ]
  },
  {
   "cell_type": "code",
   "execution_count": 224,
   "id": "6cbafb46-ed11-41c4-b12a-1fa1c4a0610f",
   "metadata": {
    "tags": []
   },
   "outputs": [
    {
     "data": {
      "text/plain": [
       "<AxesSubplot:>"
      ]
     },
     "execution_count": 224,
     "metadata": {},
     "output_type": "execute_result"
    },
    {
     "data": {
      "image/png": "[encoded data removed]",
      "text/plain": [
       "<Figure size 640x480 with 1 Axes>"
      ]
     },
     "metadata": {},
     "output_type": "display_data"
    }
   ],
   "source": [
    "# number of samples in the dataset by Sex\n",
    "dataset['Sex'].value_counts().plot.bar(color=['green','orange'], rot=0)"
   ]
  },
  {
   "cell_type": "code",
   "execution_count": 161,
   "id": "9224002a-bd21-4f1e-a0e4-042522e34c33",
   "metadata": {
    "tags": []
   },
   "outputs": [
    {
     "data": {
      "text/plain": [
       "M    0.78976\n",
       "F    0.21024\n",
       "Name: Sex, dtype: float64"
      ]
     },
     "execution_count": 161,
     "metadata": {},
     "output_type": "execute_result"
    }
   ],
   "source": [
    "# % of samples in the datset by Sex\n",
    "dataset['Sex'].value_counts(normalize=True)"
   ]
  },
  {
   "cell_type": "markdown",
   "id": "b57854f0-cf0c-4ff9-bb8d-a0e218589d66",
   "metadata": {},
   "source": [
    "#### Let's see which Sex has more Heart Diseases according to our Dataset  \n",
    "It is observed that among the Female subset there are less Female samples with No heart disease. Different from the Male distribution where it is observed that there are more heart diseases among Males."
   ]
  },
  {
   "cell_type": "code",
   "execution_count": 93,
   "id": "be90571d-bd8f-458a-b291-c49ac3579cbd",
   "metadata": {
    "tags": []
   },
   "outputs": [
    {
     "data": {
      "text/plain": [
       "Sex  HeartDisease\n",
       "F    0               143\n",
       "     1                50\n",
       "M    1               458\n",
       "     0               267\n",
       "Name: HeartDisease, dtype: int64"
      ]
     },
     "execution_count": 93,
     "metadata": {},
     "output_type": "execute_result"
    }
   ],
   "source": [
    "dataset.groupby(by='Sex')['HeartDisease'].value_counts()"
   ]
  },
  {
   "cell_type": "code",
   "execution_count": 80,
   "id": "789147bb-c2bf-49bf-9b01-18e9306668c5",
   "metadata": {
    "tags": []
   },
   "outputs": [
    {
     "data": {
      "text/plain": [
       "Sex  HeartDisease\n",
       "F    0               0.740933\n",
       "     1               0.259067\n",
       "M    1               0.631724\n",
       "     0               0.368276\n",
       "Name: HeartDisease, dtype: float64"
      ]
     },
     "execution_count": 80,
     "metadata": {},
     "output_type": "execute_result"
    }
   ],
   "source": [
    "heart_disease_by_sex = dataset.groupby(by='Sex')['HeartDisease'].value_counts(normalize=True)\n",
    "heart_disease_by_sex"
   ]
  },
  {
   "cell_type": "code",
   "execution_count": 79,
   "id": "f4659e69-7a20-4e8b-8ec8-301d2ff6271f",
   "metadata": {
    "tags": []
   },
   "outputs": [
    {
     "data": {
      "text/plain": [
       "[]"
      ]
     },
     "execution_count": 79,
     "metadata": {},
     "output_type": "execute_result"
    },
    {
     "data": {
      "image/png": "[encoded data removed]",
      "text/plain": [
       "<Figure size 1500x500 with 2 Axes>"
      ]
     },
     "metadata": {},
     "output_type": "display_data"
    }
   ],
   "source": [
    "fig, (ax1, ax2) = plt.subplots(1, 2, figsize=(15, 5))\n",
    "\n",
    "f_target = ['Heart Disease', 'No Heart Disease']\n",
    "f_counts = [x*100 for x in [heart_disease_by_sex['F'][1], heart_disease_by_sex['F'][0]]]\n",
    "m_target = ['Heart Disease', 'No Heart Disease']\n",
    "m_counts = [x*100 for x in [heart_disease_by_sex['M'][1], heart_disease_by_sex['M'][0]]]\n",
    "\n",
    "bar_colors = ['tab:red', 'tab:blue']\n",
    "\n",
    "ax1.bar(f_target, f_counts, label=bar_labels, color=bar_colors)\n",
    "ax1.set_ylabel('% of female samples for each category')\n",
    "ax1.set_title('% of FEMALE samples by Heart Disease')\n",
    "\n",
    "ax2.bar(m_target, m_counts, label=bar_labels, color=bar_colors)\n",
    "ax2.set_ylabel('% of male samples for each category')\n",
    "ax2.set_title('% of MALE samples by Heart Disease')\n",
    "\n",
    "plt.plot()"
   ]
  },
  {
   "cell_type": "markdown",
   "id": "eef7adfa-affd-4de8-b552-f8d4eeafb925",
   "metadata": {},
   "source": [
    "### What about the distribution of Heart Disease in different age ranges?"
   ]
  },
  {
   "cell_type": "code",
   "execution_count": 94,
   "id": "06ad837f-ed99-427d-a38a-3f4e74109b51",
   "metadata": {
    "tags": []
   },
   "outputs": [],
   "source": [
    "#  function to convert age value into a range of values\n",
    "def get_age_range(age):\n",
    "    if age < 0 or age > 90:\n",
    "        return \"Invalid age\"\n",
    "    \n",
    "    lower_bound = (age // 10) * 10\n",
    "    upper_bound = lower_bound + 9\n",
    "    \n",
    "    return f\"{lower_bound}-{upper_bound}\""
   ]
  },
  {
   "cell_type": "code",
   "execution_count": 96,
   "id": "e865f6aa-8491-4194-9778-9102e9828ab2",
   "metadata": {
    "tags": []
   },
   "outputs": [
    {
     "data": {
      "text/plain": [
       "'70-79'"
      ]
     },
     "execution_count": 96,
     "metadata": {},
     "output_type": "execute_result"
    }
   ],
   "source": [
    "# test the age range function\n",
    "get_age_range(70)"
   ]
  },
  {
   "cell_type": "code",
   "execution_count": 105,
   "id": "4d8801f1-55a3-4a42-9975-e4237cf1fd41",
   "metadata": {
    "tags": []
   },
   "outputs": [],
   "source": [
    "# add a new columns that will contain age ranges\n",
    "dataset['AgeRange'] = dataset['Age'].apply(get_age_range)"
   ]
  },
  {
   "cell_type": "code",
   "execution_count": 125,
   "id": "a70225b0-fb35-44f8-99cb-a553edd75a08",
   "metadata": {
    "tags": []
   },
   "outputs": [],
   "source": [
    "heart_disease_by_age_range = dataset.groupby(by=['AgeRange','HeartDisease'])['HeartDisease'].count()"
   ]
  },
  {
   "cell_type": "code",
   "execution_count": 126,
   "id": "c0f05d56-1168-4a63-8768-74264a9e9ccf",
   "metadata": {
    "tags": []
   },
   "outputs": [
    {
     "data": {
      "text/plain": [
       "MultiIndex([('20-29', 0),\n",
       "            ('30-39', 0),\n",
       "            ('30-39', 1),\n",
       "            ('40-49', 0),\n",
       "            ('40-49', 1),\n",
       "            ('50-59', 0),\n",
       "            ('50-59', 1),\n",
       "            ('60-69', 0),\n",
       "            ('60-69', 1),\n",
       "            ('70-79', 0),\n",
       "            ('70-79', 1)],\n",
       "           names=['AgeRange', 'HeartDisease'])"
      ]
     },
     "execution_count": 126,
     "metadata": {},
     "output_type": "execute_result"
    }
   ],
   "source": [
    "heart_disease_by_age_range.keys()"
   ]
  },
  {
   "cell_type": "code",
   "execution_count": 134,
   "id": "cd78528d-a3c5-4936-b6b7-b2bb28fa59d6",
   "metadata": {
    "tags": []
   },
   "outputs": [
    {
     "data": {
      "text/plain": [
       "array(['20-29', '30-39', '40-49', '50-59', '60-69', '70-79'], dtype='<U5')"
      ]
     },
     "execution_count": 134,
     "metadata": {},
     "output_type": "execute_result"
    }
   ],
   "source": [
    "target = [x[0] for x in heart_disease_by_age_range.keys()]\n",
    "target = np.unique(target)\n",
    "target"
   ]
  },
  {
   "cell_type": "code",
   "execution_count": 141,
   "id": "1f4ed66c-ab58-4994-9551-4dd9209f188f",
   "metadata": {
    "tags": []
   },
   "outputs": [
    {
     "name": "stdout",
     "output_type": "stream",
     "text": [
      "Number of samples with no heart disease by age range\n",
      "['20-29' '30-39' '40-49' '50-59' '60-69' '70-79']\n",
      "[4, 50, 126, 162, 59, 9]\n",
      "\n",
      "['20-29' '30-39' '40-49' '50-59' '60-69' '70-79']\n",
      "Number of samples with heart disease by age range\n",
      "[0, 26, 85, 212, 163, 22]\n"
     ]
    }
   ],
   "source": [
    "no_heart_diseases_target = []\n",
    "heart_diseases_target = []\n",
    "key_of_targets = heart_disease_by_age_range.keys()\n",
    "for t in target:\n",
    "    if (t,0) not in key_of_targets:\n",
    "        print(\"not zero\")\n",
    "        no_heart_diseases_target.append(0)\n",
    "        continue\n",
    "    else:\n",
    "        no_heart_diseases_target.append(heart_disease_by_age_range[(t,0)])\n",
    "    if (t,1) not in key_of_targets:\n",
    "        heart_diseases_target.append(0)\n",
    "    else:\n",
    "         heart_diseases_target.append(heart_disease_by_age_range[(t,1)])\n",
    "    \n",
    "print(\"Number of samples with no heart disease by age range\")\n",
    "print(target)\n",
    "print(no_heart_diseases_target)\n",
    "print()\n",
    "print(target)\n",
    "print(\"Number of samples with heart disease by age range\")\n",
    "print(heart_diseases_target)"
   ]
  },
  {
   "cell_type": "code",
   "execution_count": 178,
   "id": "eb62647d-cb3e-479d-bdbb-d671559feaca",
   "metadata": {
    "tags": []
   },
   "outputs": [
    {
     "data": {
      "image/png": "[encoded data removed]",
      "text/plain": [
       "<Figure size 1000x400 with 1 Axes>"
      ]
     },
     "metadata": {},
     "output_type": "display_data"
    }
   ],
   "source": [
    "fig, ax = plt.subplots(figsize=(10,4))\n",
    "\n",
    "ind = np.arange(len(target))  # the x locations for the groups\n",
    "width = 0.4       # the width of the bars\n",
    "\n",
    "no_heart_disease_bars = ax.bar(ind, no_heart_diseases_target, width, color='green')\n",
    "heart_disease_bars = ax.bar(ind+width, heart_diseases_target, width, color='orange')\n",
    "\n",
    "ax.set_ylabel('# of samples')\n",
    "ax.set_xlabel('age ranges')\n",
    "ax.set_xticks(ind+width)\n",
    "ax.set_xticklabels( (target) )\n",
    "ax.legend( (no_heart_disease_bars[0], heart_disease_bars[0]), ('No heart disease', 'Heart disease') )\n",
    "\n",
    "def autolabel(rects):\n",
    "    for rect in rects:\n",
    "        h = rect.get_height()\n",
    "        ax.text(rect.get_x()+rect.get_width()/2., 1.05*h, '%d'%int(h),\n",
    "                ha='center', va='bottom')\n",
    "\n",
    "autolabel(no_heart_disease_bars)\n",
    "autolabel(heart_disease_bars)\n",
    "\n",
    "\n",
    "plt.show()"
   ]
  },
  {
   "cell_type": "code",
   "execution_count": 195,
   "id": "5560ad6e-1ff1-441f-9d85-e0817a329d94",
   "metadata": {
    "tags": []
   },
   "outputs": [
    {
     "data": {
      "text/plain": [
       "0    704\n",
       "1    214\n",
       "Name: FastingBS, dtype: int64"
      ]
     },
     "execution_count": 195,
     "metadata": {},
     "output_type": "execute_result"
    }
   ],
   "source": [
    "dataset['FastingBS'].value_counts()"
   ]
  },
  {
   "cell_type": "markdown",
   "id": "90078350-acb2-4692-888d-37430432b42b",
   "metadata": {},
   "source": [
    "### What is the distribution of numerical features?\n"
   ]
  },
  {
   "cell_type": "code",
   "execution_count": 238,
   "id": "c31ce917-4d9f-4f02-add8-dd31b6ee5ded",
   "metadata": {
    "tags": []
   },
   "outputs": [
    {
     "data": {
      "image/png": "[encoded data removed]",
      "text/plain": [
       "<Figure size 640x480 with 1 Axes>"
      ]
     },
     "metadata": {},
     "output_type": "display_data"
    },
    {
     "data": {
      "image/png": "[encoded data removed]",
      "text/plain": [
       "<Figure size 640x480 with 1 Axes>"
      ]
     },
     "metadata": {},
     "output_type": "display_data"
    },
    {
     "data": {
      "image/png": "[encoded data removed]",
      "text/plain": [
       "<Figure size 640x480 with 1 Axes>"
      ]
     },
     "metadata": {},
     "output_type": "display_data"
    },
    {
     "data": {
      "image/png": "[encoded data removed]",
      "text/plain": [
       "<Figure size 640x480 with 1 Axes>"
      ]
     },
     "metadata": {},
     "output_type": "display_data"
    }
   ],
   "source": [
    "for c in ['RestingBP', 'Cholesterol', 'MaxHR', 'Oldpeak']:\n",
    "    plt.figure()\n",
    "    sns.boxplot(data=dataset, x='Sex' ,y=c, orient='v')"
   ]
  },
  {
   "cell_type": "code",
   "execution_count": 266,
   "id": "97da19d1-b72e-4d0a-8673-9dff29d615fa",
   "metadata": {
    "tags": []
   },
   "outputs": [
    {
     "data": {
      "text/plain": [
       "<Figure size 640x480 with 0 Axes>"
      ]
     },
     "metadata": {},
     "output_type": "display_data"
    },
    {
     "data": {
      "image/png": "[encoded data removed]",
      "text/plain": [
       "<Figure size 604.361x500 with 1 Axes>"
      ]
     },
     "metadata": {},
     "output_type": "display_data"
    },
    {
     "data": {
      "text/plain": [
       "<Figure size 640x480 with 0 Axes>"
      ]
     },
     "metadata": {},
     "output_type": "display_data"
    },
    {
     "data": {
      "image/png": "[encoded data removed]",
      "text/plain": [
       "<Figure size 604.361x500 with 1 Axes>"
      ]
     },
     "metadata": {},
     "output_type": "display_data"
    },
    {
     "data": {
      "text/plain": [
       "<Figure size 640x480 with 0 Axes>"
      ]
     },
     "metadata": {},
     "output_type": "display_data"
    },
    {
     "data": {
      "image/png": "[encoded data removed]",
      "text/plain": [
       "<Figure size 604.361x500 with 1 Axes>"
      ]
     },
     "metadata": {},
     "output_type": "display_data"
    },
    {
     "data": {
      "text/plain": [
       "<Figure size 640x480 with 0 Axes>"
      ]
     },
     "metadata": {},
     "output_type": "display_data"
    },
    {
     "data": {
      "image/png": "[encoded data removed]",
      "text/plain": [
       "<Figure size 604.361x500 with 1 Axes>"
      ]
     },
     "metadata": {},
     "output_type": "display_data"
    },
    {
     "data": {
      "text/plain": [
       "<Figure size 640x480 with 0 Axes>"
      ]
     },
     "metadata": {},
     "output_type": "display_data"
    },
    {
     "data": {
      "image/png": "[encoded data removed]",
      "text/plain": [
       "<Figure size 604.361x500 with 1 Axes>"
      ]
     },
     "metadata": {},
     "output_type": "display_data"
    }
   ],
   "source": [
    "for c in ['RestingBP', 'Cholesterol', 'MaxHR', 'Oldpeak', 'FastingBS']:\n",
    "    plt.figure()\n",
    "    sns.displot(data=dataset, x=c, hue='HeartDisease', palette={0:'green', 1:'red'})"
   ]
  },
  {
   "cell_type": "markdown",
   "id": "3d239f32-be93-48f9-a419-c13219c69979",
   "metadata": {},
   "source": [
    "### What about the categorical data  "
   ]
  },
  {
   "cell_type": "markdown",
   "id": "d694309d-b7fd-4c92-bc12-5b3525af89ae",
   "metadata": {
    "tags": []
   },
   "source": [
    "For categorical data we need to convert them into numerical values so we can visualize them so let's use a mapping to do so"
   ]
  },
  {
   "cell_type": "code",
   "execution_count": 249,
   "id": "0082fa1c-8536-4e45-af0f-7672c2069823",
   "metadata": {
    "tags": []
   },
   "outputs": [
    {
     "data": {
      "text/plain": [
       "<AxesSubplot:xlabel='Sex', ylabel='Age'>"
      ]
     },
     "execution_count": 249,
     "metadata": {},
     "output_type": "execute_result"
    },
    {
     "data": {
      "image/png": "[encoded data removed]",
      "text/plain": [
       "<Figure size 640x480 with 1 Axes>"
      ]
     },
     "metadata": {},
     "output_type": "display_data"
    }
   ],
   "source": [
    "sns.boxplot(dataset, y='Age', x=\"Sex\", hue=\"HeartDisease\")"
   ]
  },
  {
   "cell_type": "code",
   "execution_count": 297,
   "id": "7d8b8db7-f034-429c-9792-e424eb370e24",
   "metadata": {
    "tags": []
   },
   "outputs": [
    {
     "data": {
      "text/plain": [
       "<AxesSubplot:xlabel='AgeRange', ylabel='Count'>"
      ]
     },
     "execution_count": 297,
     "metadata": {},
     "output_type": "execute_result"
    },
    {
     "data": {
      "image/png": "[encoded data removed]",
      "text/plain": [
       "<Figure size 640x480 with 1 Axes>"
      ]
     },
     "metadata": {},
     "output_type": "display_data"
    }
   ],
   "source": [
    "sns.histplot(dataset, x='AgeRange', hue='HeartDisease', multiple='dodge', palette=['blue','red'])"
   ]
  },
  {
   "cell_type": "code",
   "execution_count": 296,
   "id": "06a14fed-3f0f-43d4-9a60-3cac82de02a9",
   "metadata": {
    "tags": []
   },
   "outputs": [
    {
     "data": {
      "text/plain": [
       "<AxesSubplot:xlabel='AgeRange', ylabel='Count'>"
      ]
     },
     "execution_count": 296,
     "metadata": {},
     "output_type": "execute_result"
    },
    {
     "data": {
      "image/png": "[encoded data removed]",
      "text/plain": [
       "<Figure size 640x480 with 1 Axes>"
      ]
     },
     "metadata": {},
     "output_type": "display_data"
    }
   ],
   "source": [
    "sns.histplot(dataset, x='AgeRange', hue='Sex', multiple='dodge', palette=['green', 'orange'])"
   ]
  },
  {
   "cell_type": "code",
   "execution_count": 298,
   "id": "0bc184f9-7fa0-46ed-99af-3aa64a717ad0",
   "metadata": {
    "tags": []
   },
   "outputs": [
    {
     "data": {
      "text/plain": [
       "<AxesSubplot:xlabel='ChestPainType', ylabel='Count'>"
      ]
     },
     "execution_count": 298,
     "metadata": {},
     "output_type": "execute_result"
    },
    {
     "data": {
      "image/png": "[encoded data removed]",
      "text/plain": [
       "<Figure size 640x480 with 1 Axes>"
      ]
     },
     "metadata": {},
     "output_type": "display_data"
    }
   ],
   "source": [
    "sns.histplot(dataset, x='ChestPainType', hue='HeartDisease', palette={0:'green', 1:'red'}, multiple='dodge')"
   ]
  },
  {
   "cell_type": "code",
   "execution_count": 302,
   "id": "6753b06b-3e52-4fdd-a587-5c01db445c11",
   "metadata": {
    "tags": []
   },
   "outputs": [
    {
     "data": {
      "text/plain": [
       "<AxesSubplot:xlabel='RestingECG', ylabel='Count'>"
      ]
     },
     "execution_count": 302,
     "metadata": {},
     "output_type": "execute_result"
    },
    {
     "data": {
      "image/png": "[encoded data removed]",
      "text/plain": [
       "<Figure size 640x480 with 1 Axes>"
      ]
     },
     "metadata": {},
     "output_type": "display_data"
    }
   ],
   "source": [
    "sns.histplot(dataset, x='RestingECG', hue='HeartDisease', palette={0:'green', 1:'red'}, multiple='dodge')"
   ]
  },
  {
   "cell_type": "code",
   "execution_count": 305,
   "id": "454aba9b-27bc-42a4-9da5-bd6df8af6b61",
   "metadata": {
    "tags": []
   },
   "outputs": [
    {
     "data": {
      "text/plain": [
       "<AxesSubplot:xlabel='ExerciseAngina', ylabel='Count'>"
      ]
     },
     "execution_count": 305,
     "metadata": {},
     "output_type": "execute_result"
    },
    {
     "data": {
      "image/png": "[encoded data removed]",
      "text/plain": [
       "<Figure size 640x480 with 1 Axes>"
      ]
     },
     "metadata": {},
     "output_type": "display_data"
    }
   ],
   "source": [
    "sns.histplot(dataset, x='ExerciseAngina', hue='HeartDisease', palette={0:'green', 1:'red'}, multiple='dodge')"
   ]
  },
  {
   "cell_type": "code",
   "execution_count": 307,
   "id": "510916de-6d13-4492-872b-be00144fe058",
   "metadata": {
    "tags": []
   },
   "outputs": [
    {
     "data": {
      "text/plain": [
       "<AxesSubplot:xlabel='ST_Slope', ylabel='Count'>"
      ]
     },
     "execution_count": 307,
     "metadata": {},
     "output_type": "execute_result"
    },
    {
     "data": {
      "image/png": "[encoded data removed]",
      "text/plain": [
       "<Figure size 640x480 with 1 Axes>"
      ]
     },
     "metadata": {},
     "output_type": "display_data"
    }
   ],
   "source": [
    "sns.histplot(dataset, x='ST_Slope', hue='HeartDisease', multiple='dodge')"
   ]
  },
  {
   "cell_type": "markdown",
   "id": "02e8d2a9-c18d-4513-bdc5-c09af71c5fbc",
   "metadata": {},
   "source": [
    "#### Check correlation between numerical variables and target"
   ]
  },
  {
   "cell_type": "code",
   "execution_count": 213,
   "id": "36472868-9904-4e81-97c6-9728e57f2123",
   "metadata": {
    "tags": []
   },
   "outputs": [
    {
     "data": {
      "text/html": [
       "<style type=\"text/css\">\n",
       "#T_477b3_row0_col0, #T_477b3_row1_col1, #T_477b3_row2_col2, #T_477b3_row3_col3, #T_477b3_row4_col4, #T_477b3_row5_col5 {\n",
       "  background-color: #b40426;\n",
       "  color: #f1f1f1;\n",
       "}\n",
       "#T_477b3_row0_col1 {\n",
       "  background-color: #9abbff;\n",
       "  color: #000000;\n",
       "}\n",
       "#T_477b3_row0_col2 {\n",
       "  background-color: #92b4fe;\n",
       "  color: #000000;\n",
       "}\n",
       "#T_477b3_row0_col3 {\n",
       "  background-color: #7da0f9;\n",
       "  color: #f1f1f1;\n",
       "}\n",
       "#T_477b3_row0_col4 {\n",
       "  background-color: #97b8ff;\n",
       "  color: #000000;\n",
       "}\n",
       "#T_477b3_row0_col5 {\n",
       "  background-color: #b3cdfb;\n",
       "  color: #000000;\n",
       "}\n",
       "#T_477b3_row1_col0, #T_477b3_row2_col3 {\n",
       "  background-color: #799cf8;\n",
       "  color: #f1f1f1;\n",
       "}\n",
       "#T_477b3_row1_col2, #T_477b3_row2_col1, #T_477b3_row3_col0, #T_477b3_row3_col4, #T_477b3_row3_col5, #T_477b3_row5_col3 {\n",
       "  background-color: #3b4cc0;\n",
       "  color: #f1f1f1;\n",
       "}\n",
       "#T_477b3_row1_col3 {\n",
       "  background-color: #d1dae9;\n",
       "  color: #000000;\n",
       "}\n",
       "#T_477b3_row1_col4 {\n",
       "  background-color: #7597f6;\n",
       "  color: #f1f1f1;\n",
       "}\n",
       "#T_477b3_row1_col5 {\n",
       "  background-color: #5f7fe8;\n",
       "  color: #f1f1f1;\n",
       "}\n",
       "#T_477b3_row2_col0 {\n",
       "  background-color: #6e90f2;\n",
       "  color: #f1f1f1;\n",
       "}\n",
       "#T_477b3_row2_col4 {\n",
       "  background-color: #7699f6;\n",
       "  color: #f1f1f1;\n",
       "}\n",
       "#T_477b3_row2_col5 {\n",
       "  background-color: #d7dce3;\n",
       "  color: #000000;\n",
       "}\n",
       "#T_477b3_row3_col1 {\n",
       "  background-color: #bed2f6;\n",
       "  color: #000000;\n",
       "}\n",
       "#T_477b3_row3_col2 {\n",
       "  background-color: #5a78e4;\n",
       "  color: #f1f1f1;\n",
       "}\n",
       "#T_477b3_row4_col0, #T_477b3_row4_col1, #T_477b3_row4_col2 {\n",
       "  background-color: #8caffe;\n",
       "  color: #000000;\n",
       "}\n",
       "#T_477b3_row4_col3 {\n",
       "  background-color: #7093f3;\n",
       "  color: #f1f1f1;\n",
       "}\n",
       "#T_477b3_row4_col5 {\n",
       "  background-color: #eed0c0;\n",
       "  color: #000000;\n",
       "}\n",
       "#T_477b3_row5_col0 {\n",
       "  background-color: #7a9df8;\n",
       "  color: #f1f1f1;\n",
       "}\n",
       "#T_477b3_row5_col1 {\n",
       "  background-color: #4055c8;\n",
       "  color: #f1f1f1;\n",
       "}\n",
       "#T_477b3_row5_col2 {\n",
       "  background-color: #c6d6f1;\n",
       "  color: #000000;\n",
       "}\n",
       "#T_477b3_row5_col4 {\n",
       "  background-color: #d9dce1;\n",
       "  color: #000000;\n",
       "}\n",
       "</style>\n",
       "<table id=\"T_477b3_\">\n",
       "  <thead>\n",
       "    <tr>\n",
       "      <th class=\"blank level0\" >&nbsp;</th>\n",
       "      <th class=\"col_heading level0 col0\" >RestingBP</th>\n",
       "      <th class=\"col_heading level0 col1\" >Cholesterol</th>\n",
       "      <th class=\"col_heading level0 col2\" >FastingBS</th>\n",
       "      <th class=\"col_heading level0 col3\" >MaxHR</th>\n",
       "      <th class=\"col_heading level0 col4\" >Oldpeak</th>\n",
       "      <th class=\"col_heading level0 col5\" >HeartDisease</th>\n",
       "    </tr>\n",
       "  </thead>\n",
       "  <tbody>\n",
       "    <tr>\n",
       "      <th id=\"T_477b3_level0_row0\" class=\"row_heading level0 row0\" >RestingBP</th>\n",
       "      <td id=\"T_477b3_row0_col0\" class=\"data row0 col0\" >1.000000</td>\n",
       "      <td id=\"T_477b3_row0_col1\" class=\"data row0 col1\" >0.100893</td>\n",
       "      <td id=\"T_477b3_row0_col2\" class=\"data row0 col2\" >0.070193</td>\n",
       "      <td id=\"T_477b3_row0_col3\" class=\"data row0 col3\" >-0.112135</td>\n",
       "      <td id=\"T_477b3_row0_col4\" class=\"data row0 col4\" >0.164803</td>\n",
       "      <td id=\"T_477b3_row0_col5\" class=\"data row0 col5\" >0.107589</td>\n",
       "    </tr>\n",
       "    <tr>\n",
       "      <th id=\"T_477b3_level0_row1\" class=\"row_heading level0 row1\" >Cholesterol</th>\n",
       "      <td id=\"T_477b3_row1_col0\" class=\"data row1 col0\" >0.100893</td>\n",
       "      <td id=\"T_477b3_row1_col1\" class=\"data row1 col1\" >1.000000</td>\n",
       "      <td id=\"T_477b3_row1_col2\" class=\"data row1 col2\" >-0.260974</td>\n",
       "      <td id=\"T_477b3_row1_col3\" class=\"data row1 col3\" >0.235792</td>\n",
       "      <td id=\"T_477b3_row1_col4\" class=\"data row1 col4\" >0.050148</td>\n",
       "      <td id=\"T_477b3_row1_col5\" class=\"data row1 col5\" >-0.232741</td>\n",
       "    </tr>\n",
       "    <tr>\n",
       "      <th id=\"T_477b3_level0_row2\" class=\"row_heading level0 row2\" >FastingBS</th>\n",
       "      <td id=\"T_477b3_row2_col0\" class=\"data row2 col0\" >0.070193</td>\n",
       "      <td id=\"T_477b3_row2_col1\" class=\"data row2 col1\" >-0.260974</td>\n",
       "      <td id=\"T_477b3_row2_col2\" class=\"data row2 col2\" >1.000000</td>\n",
       "      <td id=\"T_477b3_row2_col3\" class=\"data row2 col3\" >-0.131438</td>\n",
       "      <td id=\"T_477b3_row2_col4\" class=\"data row2 col4\" >0.052698</td>\n",
       "      <td id=\"T_477b3_row2_col5\" class=\"data row2 col5\" >0.267291</td>\n",
       "    </tr>\n",
       "    <tr>\n",
       "      <th id=\"T_477b3_level0_row3\" class=\"row_heading level0 row3\" >MaxHR</th>\n",
       "      <td id=\"T_477b3_row3_col0\" class=\"data row3 col0\" >-0.112135</td>\n",
       "      <td id=\"T_477b3_row3_col1\" class=\"data row3 col1\" >0.235792</td>\n",
       "      <td id=\"T_477b3_row3_col2\" class=\"data row3 col2\" >-0.131438</td>\n",
       "      <td id=\"T_477b3_row3_col3\" class=\"data row3 col3\" >1.000000</td>\n",
       "      <td id=\"T_477b3_row3_col4\" class=\"data row3 col4\" >-0.160691</td>\n",
       "      <td id=\"T_477b3_row3_col5\" class=\"data row3 col5\" >-0.400421</td>\n",
       "    </tr>\n",
       "    <tr>\n",
       "      <th id=\"T_477b3_level0_row4\" class=\"row_heading level0 row4\" >Oldpeak</th>\n",
       "      <td id=\"T_477b3_row4_col0\" class=\"data row4 col0\" >0.164803</td>\n",
       "      <td id=\"T_477b3_row4_col1\" class=\"data row4 col1\" >0.050148</td>\n",
       "      <td id=\"T_477b3_row4_col2\" class=\"data row4 col2\" >0.052698</td>\n",
       "      <td id=\"T_477b3_row4_col3\" class=\"data row4 col3\" >-0.160691</td>\n",
       "      <td id=\"T_477b3_row4_col4\" class=\"data row4 col4\" >1.000000</td>\n",
       "      <td id=\"T_477b3_row4_col5\" class=\"data row4 col5\" >0.403951</td>\n",
       "    </tr>\n",
       "    <tr>\n",
       "      <th id=\"T_477b3_level0_row5\" class=\"row_heading level0 row5\" >HeartDisease</th>\n",
       "      <td id=\"T_477b3_row5_col0\" class=\"data row5 col0\" >0.107589</td>\n",
       "      <td id=\"T_477b3_row5_col1\" class=\"data row5 col1\" >-0.232741</td>\n",
       "      <td id=\"T_477b3_row5_col2\" class=\"data row5 col2\" >0.267291</td>\n",
       "      <td id=\"T_477b3_row5_col3\" class=\"data row5 col3\" >-0.400421</td>\n",
       "      <td id=\"T_477b3_row5_col4\" class=\"data row5 col4\" >0.403951</td>\n",
       "      <td id=\"T_477b3_row5_col5\" class=\"data row5 col5\" >1.000000</td>\n",
       "    </tr>\n",
       "  </tbody>\n",
       "</table>\n"
      ],
      "text/plain": [
       "<pandas.io.formats.style.Styler at 0x21bd0190708>"
      ]
     },
     "execution_count": 213,
     "metadata": {},
     "output_type": "execute_result"
    }
   ],
   "source": [
    "corr = dataset[['RestingBP', 'Cholesterol', 'FastingBS', 'MaxHR', 'Oldpeak', 'ST_Slope','HeartDisease']].corr()\n",
    "corr.style.background_gradient(cmap='coolwarm')"
   ]
  },
  {
   "cell_type": "markdown",
   "id": "b36e01b9-0af5-43b7-973e-0cbd6f0f4ef1",
   "metadata": {},
   "source": [
    "#### Create models to predict HeartDisease"
   ]
  },
  {
   "cell_type": "markdown",
   "id": "f50b02fa-3710-440c-922f-838b4a98798a",
   "metadata": {
    "tags": []
   },
   "source": [
    "#### First, let's split our dataset into train, dev and test So we can perform some preprocessing on the training set that we are going to apply later on the other sets."
   ]
  },
  {
   "cell_type": "code",
   "execution_count": 310,
   "id": "c7d441e4-1411-4e30-a535-57fc805d39db",
   "metadata": {
    "tags": []
   },
   "outputs": [],
   "source": [
    "from sklearn.model_selection import train_test_split"
   ]
  },
  {
   "cell_type": "code",
   "execution_count": 319,
   "id": "6bcdea68-e926-40c0-b57a-51a9ae1a9159",
   "metadata": {
    "tags": []
   },
   "outputs": [],
   "source": [
    "X_train_df, X_test_df, y_train, y_test = train_test_split(dataset, dataset['HeartDisease'], random_state=42, test_size=0.1)\n",
    "X_train_df, X_dev_df, y_train, y_dev = train_test_split(X_train_df, X_train_df['HeartDisease'], random_state=42, test_size=0.11)"
   ]
  },
  {
   "cell_type": "code",
   "execution_count": 344,
   "id": "61375a90-d55a-4636-9de4-0265d8f8bd28",
   "metadata": {
    "tags": []
   },
   "outputs": [],
   "source": [
    "X_train_df.reset_index(inplace=True, drop=True)\n",
    "X_test_df.reset_index(inplace=True, drop=True)\n",
    "X_dev_df.reset_index(inplace=True, drop=True)"
   ]
  },
  {
   "cell_type": "code",
   "execution_count": 320,
   "id": "86399edf-63de-4546-93bd-e2754a015154",
   "metadata": {
    "tags": []
   },
   "outputs": [
    {
     "name": "stdout",
     "output_type": "stream",
     "text": [
      "Train size (735, 13)\n",
      "Dev size (91, 13)\n",
      "Test size (92, 13)\n"
     ]
    }
   ],
   "source": [
    "#  let's check the size of our sets\n",
    "print(\"Train size\", X_train_df.shape)\n",
    "print(\"Dev size\", X_dev_df.shape)\n",
    "print(\"Test size\", X_test_df.shape)"
   ]
  },
  {
   "cell_type": "code",
   "execution_count": 324,
   "id": "eb9d0214-d7b3-4687-beb5-0d65cba8161c",
   "metadata": {
    "tags": []
   },
   "outputs": [
    {
     "name": "stdout",
     "output_type": "stream",
     "text": [
      "Original target distribution\n",
      "1    0.553377\n",
      "0    0.446623\n",
      "Name: HeartDisease, dtype: float64\n",
      "Train target distribution\n",
      "1    0.556463\n",
      "0    0.443537\n",
      "Name: HeartDisease, dtype: float64\n",
      "Dev target distribution\n",
      "0    0.505495\n",
      "1    0.494505\n",
      "Name: HeartDisease, dtype: float64\n",
      "Test target distribution\n",
      "1    0.586957\n",
      "0    0.413043\n",
      "Name: HeartDisease, dtype: float64\n"
     ]
    }
   ],
   "source": [
    "# check the distributiton of our target\n",
    "print(\"Original target distribution\")\n",
    "print(dataset['HeartDisease'].value_counts(normalize=True))\n",
    "print(\"Train target distribution\")\n",
    "print(X_train_df['HeartDisease'].value_counts(normalize=True))\n",
    "print(\"Dev target distribution\")\n",
    "print(X_dev_df['HeartDisease'].value_counts(normalize=True))\n",
    "print(\"Test target distribution\")\n",
    "print(X_test_df['HeartDisease'].value_counts(normalize=True))"
   ]
  },
  {
   "cell_type": "code",
   "execution_count": 325,
   "id": "e1f6b3e1-ae65-4eb9-8376-fc38262c9edf",
   "metadata": {
    "tags": []
   },
   "outputs": [
    {
     "name": "stdout",
     "output_type": "stream",
     "text": [
      "Original Sex distribution\n",
      "M    0.78976\n",
      "F    0.21024\n",
      "Name: Sex, dtype: float64\n",
      "Train Sex distribution\n",
      "M    0.785034\n",
      "F    0.214966\n",
      "Name: Sex, dtype: float64\n",
      "Dev Sex distribution\n",
      "M    0.758242\n",
      "F    0.241758\n",
      "Name: Sex, dtype: float64\n",
      "Test Sex distribution\n",
      "M    0.858696\n",
      "F    0.141304\n",
      "Name: Sex, dtype: float64\n"
     ]
    }
   ],
   "source": [
    "# check the distributiton of Sex feature\n",
    "print(\"Original Sex distribution\")\n",
    "print(dataset['Sex'].value_counts(normalize=True))\n",
    "print(\"Train Sex distribution\")\n",
    "print(X_train_df['Sex'].value_counts(normalize=True))\n",
    "print(\"Dev Sex distribution\")\n",
    "print(X_dev_df['Sex'].value_counts(normalize=True))\n",
    "print(\"Test Sex distribution\")\n",
    "print(X_test_df['Sex'].value_counts(normalize=True))"
   ]
  },
  {
   "cell_type": "code",
   "execution_count": 341,
   "id": "a9925ee0-b92d-4e58-80ee-9406a13aca38",
   "metadata": {
    "tags": []
   },
   "outputs": [
    {
     "name": "stdout",
     "output_type": "stream",
     "text": [
      "Original AgeRange distribution\n",
      "20-29 - 0.44\n",
      "30-39 - 8.28\n",
      "40-49 - 22.98\n",
      "50-59 - 40.74\n",
      "60-69 - 24.18\n",
      "70-79 - 3.38\n",
      "\n",
      "Train AgeRange distribution\n",
      "20-29 - 0.41\n",
      "30-39 - 7.89\n",
      "40-49 - 22.72\n",
      "50-59 - 41.9\n",
      "60-69 - 23.95\n",
      "70-79 - 3.13\n",
      "\n",
      "Dev AgeRange distribution\n",
      "30-39 - 12.09\n",
      "40-49 - 25.27\n",
      "50-59 - 35.16\n",
      "60-69 - 21.98\n",
      "70-79 - 5.49\n",
      "\n",
      "Test AgeRange distribution\n",
      "20-29 - 1.09\n",
      "30-39 - 7.61\n",
      "40-49 - 22.83\n",
      "50-59 - 36.96\n",
      "60-69 - 28.26\n",
      "70-79 - 3.26\n"
     ]
    }
   ],
   "source": [
    "# check the distributiton of AgeRange feature\n",
    "print(\"Original AgeRange distribution\")\n",
    "for x in sorted(dict(dataset['AgeRange'].value_counts(normalize=True)).items()):\n",
    "    print(x[0],'-', round(float(x[1])*100,2))\n",
    "print()\n",
    "print(\"Train AgeRange distribution\")\n",
    "for x in sorted(dict(X_train_df['AgeRange'].value_counts(normalize=True)).items()):\n",
    "    print(x[0],'-', round(float(x[1])*100,2))\n",
    "print()\n",
    "print(\"Dev AgeRange distribution\")\n",
    "for x in sorted(dict(X_dev_df['AgeRange'].value_counts(normalize=True)).items()):\n",
    "    print(x[0],'-', round(float(x[1])*100,2))\n",
    "print()\n",
    "print(\"Test AgeRange distribution\")\n",
    "for x in sorted(dict(X_test_df['AgeRange'].value_counts(normalize=True)).items()):\n",
    "    print(x[0],'-', round(float(x[1])*100,2))"
   ]
  },
  {
   "cell_type": "markdown",
   "id": "581d1a72-a5cf-4500-bb7e-f90ad5ea730f",
   "metadata": {},
   "source": [
    "It looks that the distribution of our 3 sets are ok, so now let's work on some preprocessing steps like Normalization | Standardization and categorial features encoding"
   ]
  },
  {
   "cell_type": "code",
   "execution_count": 346,
   "id": "6c32673f-574a-4c33-a713-df3e973eb086",
   "metadata": {
    "tags": []
   },
   "outputs": [],
   "source": [
    "# Lets copy our X_train_df so we work over it without affecting original train ds\n",
    "X_train = X_train_df.copy()"
   ]
  },
  {
   "cell_type": "code",
   "execution_count": 349,
   "id": "5b5840f0-e5fd-4b4f-8481-1767ec841d85",
   "metadata": {
    "tags": []
   },
   "outputs": [],
   "source": [
    "# drop Age and HeartDisease Columns\n",
    "X_train.drop(['Age', 'HeartDisease'], axis=1, inplace=True)"
   ]
  },
  {
   "cell_type": "code",
   "execution_count": 438,
   "id": "3d280661-3f02-48c5-a83e-8e922ade9f83",
   "metadata": {
    "tags": []
   },
   "outputs": [],
   "source": [
    "from sklearn.preprocessing import OneHotEncoder, LabelEncoder, LabelBinarizer, OrdinalEncoder\n",
    "from sklearn.preprocessing import StandardScaler"
   ]
  },
  {
   "cell_type": "code",
   "execution_count": 354,
   "id": "3e6efb55-a576-48e7-b2c6-bd778d06600d",
   "metadata": {
    "tags": []
   },
   "outputs": [],
   "source": [
    "lb_sex = LabelBinarizer()\n",
    "lb_sex.fit(X_train['Sex'])\n",
    "X_train['Sex'] = lb_sex.transform(X_train['Sex'])"
   ]
  },
  {
   "cell_type": "code",
   "execution_count": 375,
   "id": "1177727b-ab25-4d6b-bf50-bd77f8501069",
   "metadata": {
    "tags": []
   },
   "outputs": [
    {
     "data": {
      "text/plain": [
       "array([[1., 0., 0., 0.],\n",
       "       [1., 0., 0., 0.],\n",
       "       [1., 0., 0., 0.],\n",
       "       ...,\n",
       "       [1., 0., 0., 0.],\n",
       "       [1., 0., 0., 0.],\n",
       "       [1., 0., 0., 0.]])"
      ]
     },
     "execution_count": 375,
     "metadata": {},
     "output_type": "execute_result"
    }
   ],
   "source": [
    "chestpaintype_encoder = OneHotEncoder(handle_unknown='ignore')\n",
    "chestpaintype_encoder.fit(X_train['ChestPainType'].values.reshape(-1,1), )\n",
    "chestpaintype_encoder.transform(X_train['ChestPainType'].values.reshape(-1,1)).toarray()"
   ]
  },
  {
   "cell_type": "code",
   "execution_count": 382,
   "id": "aa53337b-aeec-4f1b-8195-435035f7067d",
   "metadata": {
    "tags": []
   },
   "outputs": [],
   "source": [
    "X_train[[f'cpt_{x}' for x in chestpaintype_encoder.categories_[0]]] = chestpaintype_encoder.transform(X_train['ChestPainType'].values.reshape(-1,1)).toarray()"
   ]
  },
  {
   "cell_type": "code",
   "execution_count": 391,
   "id": "5355b7c1-1718-4c43-a214-ab039c4fe7c1",
   "metadata": {
    "tags": []
   },
   "outputs": [
    {
     "data": {
      "text/plain": [
       "LabelBinarizer()"
      ]
     },
     "execution_count": 391,
     "metadata": {},
     "output_type": "execute_result"
    }
   ],
   "source": [
    "exerciseangina_lbinarizer = LabelBinarizer()\n",
    "exerciseangina_lbinarizer.fit(X_train['ExerciseAngina'])"
   ]
  },
  {
   "cell_type": "code",
   "execution_count": 392,
   "id": "94eaa080-d229-4765-a590-3937b2b49c37",
   "metadata": {
    "tags": []
   },
   "outputs": [],
   "source": [
    "X_train['ExerciseAngina'] = exerciseangina_lbinarizer.transform(X_train['ExerciseAngina'])"
   ]
  },
  {
   "cell_type": "code",
   "execution_count": 399,
   "id": "126f57d4-f38b-4d79-9db1-2eae96efadb3",
   "metadata": {
    "tags": []
   },
   "outputs": [
    {
     "data": {
      "text/plain": [
       "<735x3 sparse matrix of type '<class 'numpy.float64'>'\n",
       "\twith 735 stored elements in Compressed Sparse Row format>"
      ]
     },
     "execution_count": 399,
     "metadata": {},
     "output_type": "execute_result"
    }
   ],
   "source": [
    "restingECG_encoder = OneHotEncoder(handle_unknown='ignore')\n",
    "restingECG_encoder.fit(X_train['RestingECG'].values.reshape(-1,1))\n",
    "restingECG_encoder.transform(X_train['RestingECG'].values.reshape(-1,1))"
   ]
  },
  {
   "cell_type": "code",
   "execution_count": 402,
   "id": "65350909-275d-4129-bf22-d55e3926a34d",
   "metadata": {
    "tags": []
   },
   "outputs": [],
   "source": [
    "X_train[[f'recg_{x}' for x in restingECG_encoder.categories_[0]]] = restingECG_encoder.transform(X_train['RestingECG'].values.reshape(-1,1)).toarray()"
   ]
  },
  {
   "cell_type": "code",
   "execution_count": 404,
   "id": "db95afd5-614b-4006-a44f-fbf1468fb254",
   "metadata": {
    "tags": []
   },
   "outputs": [
    {
     "data": {
      "text/plain": [
       "Flat    375\n",
       "Up      313\n",
       "Down     47\n",
       "Name: ST_Slope, dtype: int64"
      ]
     },
     "execution_count": 404,
     "metadata": {},
     "output_type": "execute_result"
    }
   ],
   "source": [
    "X_train['ST_Slope'].value_counts()"
   ]
  },
  {
   "cell_type": "code",
   "execution_count": 414,
   "id": "d62c29cf-90ae-410f-a01f-74ffb4d6e5b0",
   "metadata": {
    "tags": []
   },
   "outputs": [
    {
     "data": {
      "text/plain": [
       "array(['Down', 'Flat', 'Up'], dtype=object)"
      ]
     },
     "execution_count": 414,
     "metadata": {},
     "output_type": "execute_result"
    }
   ],
   "source": [
    "st_slope_encoder.categories_[0]"
   ]
  },
  {
   "cell_type": "code",
   "execution_count": 413,
   "id": "de8e305e-bd7c-4ef3-9b53-8bb3bc7cd8d5",
   "metadata": {
    "tags": []
   },
   "outputs": [
    {
     "data": {
      "text/plain": [
       "OrdinalEncoder(categories=[['Down', 'Flat', 'Up']])"
      ]
     },
     "execution_count": 413,
     "metadata": {},
     "output_type": "execute_result"
    }
   ],
   "source": [
    "st_slope_encoder = OrdinalEncoder(categories=[['Down', 'Flat', 'Up']])\n",
    "st_slope_encoder.fit(X_train['ST_Slope'].values.reshape(-1, 1))"
   ]
  },
  {
   "cell_type": "code",
   "execution_count": 422,
   "id": "ed860557-3fa3-4155-97f6-11e609bea6dc",
   "metadata": {
    "tags": []
   },
   "outputs": [],
   "source": [
    "X_train['ST_Slope'] = st_slope_encoder.transform(X_train['ST_Slope'].values.reshape(-1, 1))"
   ]
  },
  {
   "cell_type": "code",
   "execution_count": 425,
   "id": "688398f2-b1c7-4519-88a0-e7a133bd5982",
   "metadata": {
    "tags": []
   },
   "outputs": [
    {
     "data": {
      "text/plain": [
       "Index(['50-59', '60-69', '40-49', '30-39', '70-79', '20-29'], dtype='object')"
      ]
     },
     "execution_count": 425,
     "metadata": {},
     "output_type": "execute_result"
    }
   ],
   "source": [
    "X_train['AgeRange'].value_counts().keys()"
   ]
  },
  {
   "cell_type": "code",
   "execution_count": 428,
   "id": "e5d5a5bb-329c-44c6-9b2e-bf88137e0727",
   "metadata": {
    "tags": []
   },
   "outputs": [
    {
     "data": {
      "text/plain": [
       "OrdinalEncoder(categories=[['20-29', '30-39', '40-49', '50-59', '60-69',\n",
       "                            '70-79']])"
      ]
     },
     "execution_count": 428,
     "metadata": {},
     "output_type": "execute_result"
    }
   ],
   "source": [
    "age_range_encoder = OrdinalEncoder(categories=[[ '20-29','30-39','40-49','50-59','60-69','70-79']])\n",
    "age_range_encoder.fit(X_train['AgeRange'].values.reshape(-1,1))"
   ]
  },
  {
   "cell_type": "code",
   "execution_count": 430,
   "id": "5b6758bb-5ce4-4050-9b1b-aefc1821e0b1",
   "metadata": {
    "tags": []
   },
   "outputs": [],
   "source": [
    "X_train['AgeRange'] = age_range_encoder.transform(X_train['AgeRange'].values.reshape(-1,1))"
   ]
  },
  {
   "cell_type": "code",
   "execution_count": 432,
   "id": "88689f80-29e7-4f38-ae28-69e503cde9eb",
   "metadata": {
    "tags": []
   },
   "outputs": [
    {
     "data": {
      "text/plain": [
       "Index(['Age', 'Sex', 'ChestPainType', 'RestingBP', 'Cholesterol', 'FastingBS',\n",
       "       'RestingECG', 'MaxHR', 'ExerciseAngina', 'Oldpeak', 'ST_Slope',\n",
       "       'HeartDisease', 'AgeRange'],\n",
       "      dtype='object')"
      ]
     },
     "execution_count": 432,
     "metadata": {},
     "output_type": "execute_result"
    }
   ],
   "source": [
    "X_train_df.columns"
   ]
  },
  {
   "cell_type": "code",
   "execution_count": 435,
   "id": "8fccbb66-db0c-4340-98ee-68fb9dba9610",
   "metadata": {
    "tags": []
   },
   "outputs": [],
   "source": [
    "X_train.drop(['ChestPainType','RestingECG'] ,axis=1, inplace=True)"
   ]
  },
  {
   "cell_type": "code",
   "execution_count": 440,
   "id": "b2160ff4-867d-4832-88b8-d77fb3f82b81",
   "metadata": {
    "tags": []
   },
   "outputs": [
    {
     "data": {
      "text/plain": [
       "StandardScaler()"
      ]
     },
     "execution_count": 440,
     "metadata": {},
     "output_type": "execute_result"
    }
   ],
   "source": [
    "feature_scaler = StandardScaler()\n",
    "feature_scaler.fit(X_train[['RestingBP', 'Cholesterol', 'MaxHR']])"
   ]
  },
  {
   "cell_type": "code",
   "execution_count": 443,
   "id": "295a1e1f-7957-4186-afe8-0b200b0b8cd3",
   "metadata": {
    "tags": []
   },
   "outputs": [],
   "source": [
    "X_train[['RestingBP', 'Cholesterol', 'MaxHR']] = feature_scaler.transform(X_train[['RestingBP', 'Cholesterol', 'MaxHR']])"
   ]
  },
  {
   "cell_type": "code",
   "execution_count": 446,
   "id": "1d8857be-07db-4246-84d6-c64e47a6ca85",
   "metadata": {
    "tags": []
   },
   "outputs": [],
   "source": [
    "def preprocess_set(dataframe):\n",
    "    result = dataframe.copy()\n",
    "    result.drop(['Age', 'HeartDisease'], axis=1, inplace=True)\n",
    "    result['Sex'] = lb_sex.transform(result['Sex'])\n",
    "    result[[f'cpt_{x}' for x in chestpaintype_encoder.categories_[0]]] = chestpaintype_encoder.transform(result['ChestPainType'].values.reshape(-1,1)).toarray()\n",
    "    result['ExerciseAngina'] = exerciseangina_lbinarizer.transform(result['ExerciseAngina'])\n",
    "    result[[f'recg_{x}' for x in restingECG_encoder.categories_[0]]] = restingECG_encoder.transform(result['RestingECG'].values.reshape(-1,1)).toarray()\n",
    "    result['ST_Slope'] = st_slope_encoder.transform(result['ST_Slope'].values.reshape(-1, 1))\n",
    "    result['AgeRange'] = age_range_encoder.transform(result['AgeRange'].values.reshape(-1,1))\n",
    "    result.drop(['ChestPainType','RestingECG'] ,axis=1, inplace=True)\n",
    "    result[['RestingBP', 'Cholesterol', 'MaxHR']] = feature_scaler.transform(result[['RestingBP', 'Cholesterol', 'MaxHR']])\n",
    "    return result"
   ]
  },
  {
   "cell_type": "code",
   "execution_count": 448,
   "id": "513eb1f9-6968-44b9-8058-d7eed3cfd52e",
   "metadata": {
    "tags": []
   },
   "outputs": [],
   "source": [
    "X_dev = preprocess_set(X_dev_df)\n",
    "X_test = preprocess_set(X_test_df)"
   ]
  },
  {
   "cell_type": "code",
   "execution_count": 461,
   "id": "96cc0639-936e-4454-ab3a-dbf8d7c30d72",
   "metadata": {
    "tags": []
   },
   "outputs": [],
   "source": [
    "y_train = y_train.values\n",
    "y_dev = y_dev.values\n",
    "y_test = y_test.values"
   ]
  },
  {
   "cell_type": "code",
   "execution_count": 450,
   "id": "ced9c500-e811-4f35-9bab-de595205b347",
   "metadata": {
    "tags": []
   },
   "outputs": [
    {
     "data": {
      "text/html": [
       "<div>\n",
       "<style scoped>\n",
       "    .dataframe tbody tr th:only-of-type {\n",
       "        vertical-align: middle;\n",
       "    }\n",
       "\n",
       "    .dataframe tbody tr th {\n",
       "        vertical-align: top;\n",
       "    }\n",
       "\n",
       "    .dataframe thead th {\n",
       "        text-align: right;\n",
       "    }\n",
       "</style>\n",
       "<table border=\"1\" class=\"dataframe\">\n",
       "  <thead>\n",
       "    <tr style=\"text-align: right;\">\n",
       "      <th></th>\n",
       "      <th>Sex</th>\n",
       "      <th>RestingBP</th>\n",
       "      <th>Cholesterol</th>\n",
       "      <th>FastingBS</th>\n",
       "      <th>MaxHR</th>\n",
       "      <th>ExerciseAngina</th>\n",
       "      <th>Oldpeak</th>\n",
       "      <th>ST_Slope</th>\n",
       "      <th>AgeRange</th>\n",
       "      <th>cpt_ASY</th>\n",
       "      <th>cpt_ATA</th>\n",
       "      <th>cpt_NAP</th>\n",
       "      <th>cpt_TA</th>\n",
       "      <th>recg_LVH</th>\n",
       "      <th>recg_Normal</th>\n",
       "      <th>recg_ST</th>\n",
       "    </tr>\n",
       "  </thead>\n",
       "  <tbody>\n",
       "    <tr>\n",
       "      <th>0</th>\n",
       "      <td>0</td>\n",
       "      <td>0.424154</td>\n",
       "      <td>-0.014611</td>\n",
       "      <td>0</td>\n",
       "      <td>1.681517</td>\n",
       "      <td>0</td>\n",
       "      <td>0.0</td>\n",
       "      <td>2.0</td>\n",
       "      <td>4.0</td>\n",
       "      <td>0.0</td>\n",
       "      <td>1.0</td>\n",
       "      <td>0.0</td>\n",
       "      <td>0.0</td>\n",
       "      <td>0.0</td>\n",
       "      <td>1.0</td>\n",
       "      <td>0.0</td>\n",
       "    </tr>\n",
       "    <tr>\n",
       "      <th>1</th>\n",
       "      <td>1</td>\n",
       "      <td>0.697143</td>\n",
       "      <td>2.922508</td>\n",
       "      <td>0</td>\n",
       "      <td>-0.248246</td>\n",
       "      <td>0</td>\n",
       "      <td>0.0</td>\n",
       "      <td>1.0</td>\n",
       "      <td>3.0</td>\n",
       "      <td>0.0</td>\n",
       "      <td>0.0</td>\n",
       "      <td>1.0</td>\n",
       "      <td>0.0</td>\n",
       "      <td>0.0</td>\n",
       "      <td>1.0</td>\n",
       "      <td>0.0</td>\n",
       "    </tr>\n",
       "    <tr>\n",
       "      <th>2</th>\n",
       "      <td>1</td>\n",
       "      <td>1.516109</td>\n",
       "      <td>-1.787795</td>\n",
       "      <td>1</td>\n",
       "      <td>-0.563310</td>\n",
       "      <td>0</td>\n",
       "      <td>1.2</td>\n",
       "      <td>1.0</td>\n",
       "      <td>4.0</td>\n",
       "      <td>1.0</td>\n",
       "      <td>0.0</td>\n",
       "      <td>0.0</td>\n",
       "      <td>0.0</td>\n",
       "      <td>0.0</td>\n",
       "      <td>0.0</td>\n",
       "      <td>1.0</td>\n",
       "    </tr>\n",
       "    <tr>\n",
       "      <th>3</th>\n",
       "      <td>1</td>\n",
       "      <td>-0.121824</td>\n",
       "      <td>-1.787795</td>\n",
       "      <td>0</td>\n",
       "      <td>-0.563310</td>\n",
       "      <td>1</td>\n",
       "      <td>1.0</td>\n",
       "      <td>1.0</td>\n",
       "      <td>3.0</td>\n",
       "      <td>1.0</td>\n",
       "      <td>0.0</td>\n",
       "      <td>0.0</td>\n",
       "      <td>0.0</td>\n",
       "      <td>1.0</td>\n",
       "      <td>0.0</td>\n",
       "      <td>0.0</td>\n",
       "    </tr>\n",
       "    <tr>\n",
       "      <th>4</th>\n",
       "      <td>1</td>\n",
       "      <td>-1.322974</td>\n",
       "      <td>1.022019</td>\n",
       "      <td>0</td>\n",
       "      <td>0.775710</td>\n",
       "      <td>0</td>\n",
       "      <td>0.0</td>\n",
       "      <td>2.0</td>\n",
       "      <td>3.0</td>\n",
       "      <td>0.0</td>\n",
       "      <td>1.0</td>\n",
       "      <td>0.0</td>\n",
       "      <td>0.0</td>\n",
       "      <td>0.0</td>\n",
       "      <td>1.0</td>\n",
       "      <td>0.0</td>\n",
       "    </tr>\n",
       "    <tr>\n",
       "      <th>...</th>\n",
       "      <td>...</td>\n",
       "      <td>...</td>\n",
       "      <td>...</td>\n",
       "      <td>...</td>\n",
       "      <td>...</td>\n",
       "      <td>...</td>\n",
       "      <td>...</td>\n",
       "      <td>...</td>\n",
       "      <td>...</td>\n",
       "      <td>...</td>\n",
       "      <td>...</td>\n",
       "      <td>...</td>\n",
       "      <td>...</td>\n",
       "      <td>...</td>\n",
       "      <td>...</td>\n",
       "      <td>...</td>\n",
       "    </tr>\n",
       "    <tr>\n",
       "      <th>87</th>\n",
       "      <td>1</td>\n",
       "      <td>1.079327</td>\n",
       "      <td>-0.396528</td>\n",
       "      <td>0</td>\n",
       "      <td>-1.547883</td>\n",
       "      <td>1</td>\n",
       "      <td>1.6</td>\n",
       "      <td>2.0</td>\n",
       "      <td>4.0</td>\n",
       "      <td>1.0</td>\n",
       "      <td>0.0</td>\n",
       "      <td>0.0</td>\n",
       "      <td>0.0</td>\n",
       "      <td>0.0</td>\n",
       "      <td>0.0</td>\n",
       "      <td>1.0</td>\n",
       "    </tr>\n",
       "    <tr>\n",
       "      <th>88</th>\n",
       "      <td>0</td>\n",
       "      <td>-0.012628</td>\n",
       "      <td>0.912900</td>\n",
       "      <td>0</td>\n",
       "      <td>0.303115</td>\n",
       "      <td>0</td>\n",
       "      <td>0.0</td>\n",
       "      <td>2.0</td>\n",
       "      <td>2.0</td>\n",
       "      <td>1.0</td>\n",
       "      <td>0.0</td>\n",
       "      <td>0.0</td>\n",
       "      <td>0.0</td>\n",
       "      <td>0.0</td>\n",
       "      <td>1.0</td>\n",
       "      <td>0.0</td>\n",
       "    </tr>\n",
       "    <tr>\n",
       "      <th>89</th>\n",
       "      <td>1</td>\n",
       "      <td>-1.759756</td>\n",
       "      <td>-1.787795</td>\n",
       "      <td>0</td>\n",
       "      <td>1.681517</td>\n",
       "      <td>0</td>\n",
       "      <td>-1.1</td>\n",
       "      <td>2.0</td>\n",
       "      <td>1.0</td>\n",
       "      <td>0.0</td>\n",
       "      <td>0.0</td>\n",
       "      <td>1.0</td>\n",
       "      <td>0.0</td>\n",
       "      <td>0.0</td>\n",
       "      <td>1.0</td>\n",
       "      <td>0.0</td>\n",
       "    </tr>\n",
       "    <tr>\n",
       "      <th>90</th>\n",
       "      <td>0</td>\n",
       "      <td>1.516109</td>\n",
       "      <td>-1.787795</td>\n",
       "      <td>0</td>\n",
       "      <td>-0.602693</td>\n",
       "      <td>0</td>\n",
       "      <td>0.0</td>\n",
       "      <td>2.0</td>\n",
       "      <td>5.0</td>\n",
       "      <td>0.0</td>\n",
       "      <td>0.0</td>\n",
       "      <td>1.0</td>\n",
       "      <td>0.0</td>\n",
       "      <td>0.0</td>\n",
       "      <td>0.0</td>\n",
       "      <td>1.0</td>\n",
       "    </tr>\n",
       "    <tr>\n",
       "      <th>91</th>\n",
       "      <td>1</td>\n",
       "      <td>-0.940790</td>\n",
       "      <td>-1.787795</td>\n",
       "      <td>0</td>\n",
       "      <td>-0.642076</td>\n",
       "      <td>1</td>\n",
       "      <td>0.5</td>\n",
       "      <td>1.0</td>\n",
       "      <td>3.0</td>\n",
       "      <td>1.0</td>\n",
       "      <td>0.0</td>\n",
       "      <td>0.0</td>\n",
       "      <td>0.0</td>\n",
       "      <td>0.0</td>\n",
       "      <td>1.0</td>\n",
       "      <td>0.0</td>\n",
       "    </tr>\n",
       "  </tbody>\n",
       "</table>\n",
       "<p>92 rows × 16 columns</p>\n",
       "</div>"
      ],
      "text/plain": [
       "    Sex  RestingBP  Cholesterol  FastingBS     MaxHR  ExerciseAngina  Oldpeak  \\\n",
       "0     0   0.424154    -0.014611          0  1.681517               0      0.0   \n",
       "1     1   0.697143     2.922508          0 -0.248246               0      0.0   \n",
       "2     1   1.516109    -1.787795          1 -0.563310               0      1.2   \n",
       "3     1  -0.121824    -1.787795          0 -0.563310               1      1.0   \n",
       "4     1  -1.322974     1.022019          0  0.775710               0      0.0   \n",
       "..  ...        ...          ...        ...       ...             ...      ...   \n",
       "87    1   1.079327    -0.396528          0 -1.547883               1      1.6   \n",
       "88    0  -0.012628     0.912900          0  0.303115               0      0.0   \n",
       "89    1  -1.759756    -1.787795          0  1.681517               0     -1.1   \n",
       "90    0   1.516109    -1.787795          0 -0.602693               0      0.0   \n",
       "91    1  -0.940790    -1.787795          0 -0.642076               1      0.5   \n",
       "\n",
       "    ST_Slope  AgeRange  cpt_ASY  cpt_ATA  cpt_NAP  cpt_TA  recg_LVH  \\\n",
       "0        2.0       4.0      0.0      1.0      0.0     0.0       0.0   \n",
       "1        1.0       3.0      0.0      0.0      1.0     0.0       0.0   \n",
       "2        1.0       4.0      1.0      0.0      0.0     0.0       0.0   \n",
       "3        1.0       3.0      1.0      0.0      0.0     0.0       1.0   \n",
       "4        2.0       3.0      0.0      1.0      0.0     0.0       0.0   \n",
       "..       ...       ...      ...      ...      ...     ...       ...   \n",
       "87       2.0       4.0      1.0      0.0      0.0     0.0       0.0   \n",
       "88       2.0       2.0      1.0      0.0      0.0     0.0       0.0   \n",
       "89       2.0       1.0      0.0      0.0      1.0     0.0       0.0   \n",
       "90       2.0       5.0      0.0      0.0      1.0     0.0       0.0   \n",
       "91       1.0       3.0      1.0      0.0      0.0     0.0       0.0   \n",
       "\n",
       "    recg_Normal  recg_ST  \n",
       "0           1.0      0.0  \n",
       "1           1.0      0.0  \n",
       "2           0.0      1.0  \n",
       "3           0.0      0.0  \n",
       "4           1.0      0.0  \n",
       "..          ...      ...  \n",
       "87          0.0      1.0  \n",
       "88          1.0      0.0  \n",
       "89          1.0      0.0  \n",
       "90          0.0      1.0  \n",
       "91          1.0      0.0  \n",
       "\n",
       "[92 rows x 16 columns]"
      ]
     },
     "execution_count": 450,
     "metadata": {},
     "output_type": "execute_result"
    }
   ],
   "source": [
    "X_test"
   ]
  },
  {
   "cell_type": "code",
   "execution_count": 453,
   "id": "167700e2-c707-4403-ae99-6f1ad8b3fd98",
   "metadata": {
    "tags": []
   },
   "outputs": [],
   "source": [
    "from sklearn.tree import DecisionTreeClassifier \n",
    "from sklearn.metrics import accuracy_score"
   ]
  },
  {
   "cell_type": "code",
   "execution_count": 462,
   "id": "fa64bc3d-1623-4b60-8261-af65476dfbec",
   "metadata": {
    "tags": []
   },
   "outputs": [
    {
     "data": {
      "text/plain": [
       "DecisionTreeClassifier()"
      ]
     },
     "execution_count": 462,
     "metadata": {},
     "output_type": "execute_result"
    }
   ],
   "source": [
    "dt_classifier = DecisionTreeClassifier()\n",
    "dt_classifier.fit(X_train, y_train)"
   ]
  },
  {
   "cell_type": "code",
   "execution_count": 475,
   "id": "b3be93a5-d8bc-4535-9b54-f4c3d3a5a0f6",
   "metadata": {
    "tags": []
   },
   "outputs": [
    {
     "data": {
      "text/plain": [
       "[(0.3772355745107236, 'ST_Slope'),\n",
       " (0.10183742459722646, 'cpt_ASY'),\n",
       " (0.09890967217812853, 'Oldpeak'),\n",
       " (0.09770523489797875, 'Cholesterol'),\n",
       " (0.09371406814219709, 'MaxHR'),\n",
       " (0.08415139905121023, 'RestingBP'),\n",
       " (0.03503053025664532, 'Sex'),\n",
       " (0.02539674801625992, 'FastingBS'),\n",
       " (0.02025854553741586, 'ExerciseAngina'),\n",
       " (0.019618848406772173, 'recg_Normal'),\n",
       " (0.016156079338274745, 'AgeRange'),\n",
       " (0.00960346894344316, 'recg_LVH'),\n",
       " (0.009475142018229304, 'cpt_ATA'),\n",
       " (0.006093837085673502, 'recg_ST'),\n",
       " (0.0036749816250918744, 'cpt_NAP'),\n",
       " (0.0011384453947295493, 'cpt_TA')]"
      ]
     },
     "execution_count": 475,
     "metadata": {},
     "output_type": "execute_result"
    }
   ],
   "source": [
    "sorted([(x,y) for x,y in zip(dt_classifier.feature_importances_, dt_classifier.feature_names_in_)], key=lambda x: x[0], reverse=True)"
   ]
  },
  {
   "cell_type": "code",
   "execution_count": 471,
   "id": "37eefe87-11b5-4118-97a6-60b023c24dfb",
   "metadata": {
    "tags": []
   },
   "outputs": [
    {
     "data": {
      "text/plain": [
       "array(['Sex', 'RestingBP', 'Cholesterol', 'FastingBS', 'MaxHR',\n",
       "       'ExerciseAngina', 'Oldpeak', 'ST_Slope', 'AgeRange', 'cpt_ASY',\n",
       "       'cpt_ATA', 'cpt_NAP', 'cpt_TA', 'recg_LVH', 'recg_Normal',\n",
       "       'recg_ST'], dtype=object)"
      ]
     },
     "execution_count": 471,
     "metadata": {},
     "output_type": "execute_result"
    }
   ],
   "source": [
    "dt_classifier.feature_names_in_"
   ]
  },
  {
   "cell_type": "code",
   "execution_count": 466,
   "id": "29a08828-3e8f-48af-89cf-ce139c55a645",
   "metadata": {
    "tags": []
   },
   "outputs": [],
   "source": [
    "y_pred = dt_classifier.predict(X_dev)"
   ]
  },
  {
   "cell_type": "code",
   "execution_count": 467,
   "id": "98afc642-a039-4c38-8ba9-0194e2a27750",
   "metadata": {
    "tags": []
   },
   "outputs": [
    {
     "data": {
      "text/plain": [
       "0.8681318681318682"
      ]
     },
     "execution_count": 467,
     "metadata": {},
     "output_type": "execute_result"
    }
   ],
   "source": [
    "accuracy_score(y_dev, y_pred)"
   ]
  },
  {
   "cell_type": "code",
   "execution_count": 468,
   "id": "7cbb2f7e-6567-494a-b0e5-900de4d67382",
   "metadata": {
    "tags": []
   },
   "outputs": [],
   "source": [
    "y_pred_test = dt_classifier.predict(X_test)"
   ]
  },
  {
   "cell_type": "code",
   "execution_count": 469,
   "id": "93b34c29-9eaa-47b2-8ae1-2e6fb6a0b6ee",
   "metadata": {
    "tags": []
   },
   "outputs": [
    {
     "data": {
      "text/plain": [
       "0.7608695652173914"
      ]
     },
     "execution_count": 469,
     "metadata": {},
     "output_type": "execute_result"
    }
   ],
   "source": [
    "accuracy_score(y_test, y_pred_test)"
   ]
  },
  {
   "cell_type": "code",
   "execution_count": 476,
   "id": "9dde34a6-7497-4f24-aded-d22fe1221803",
   "metadata": {
    "tags": []
   },
   "outputs": [],
   "source": [
    "from sklearn.linear_model import LogisticRegression"
   ]
  },
  {
   "cell_type": "code",
   "execution_count": 477,
   "id": "b8e7e4fa-e205-420f-8c66-d16d6672314e",
   "metadata": {
    "tags": []
   },
   "outputs": [
    {
     "data": {
      "text/plain": [
       "LogisticRegression()"
      ]
     },
     "execution_count": 477,
     "metadata": {},
     "output_type": "execute_result"
    }
   ],
   "source": [
    "lg_clf = LogisticRegression()\n",
    "lg_clf.fit(X_train, y_train)"
   ]
  },
  {
   "cell_type": "code",
   "execution_count": 478,
   "id": "3bef0c49-1166-417a-9c80-ad5e13579dfa",
   "metadata": {
    "tags": []
   },
   "outputs": [
    {
     "data": {
      "text/plain": [
       "0.8791208791208791"
      ]
     },
     "execution_count": 478,
     "metadata": {},
     "output_type": "execute_result"
    }
   ],
   "source": [
    "accuracy_score(y_dev, lg_clf.predict(X_dev))"
   ]
  },
  {
   "cell_type": "code",
   "execution_count": 479,
   "id": "cb7a6e64-8a75-4906-ae7a-4fdbd180698c",
   "metadata": {
    "tags": []
   },
   "outputs": [
    {
     "data": {
      "text/plain": [
       "0.8152173913043478"
      ]
     },
     "execution_count": 479,
     "metadata": {},
     "output_type": "execute_result"
    }
   ],
   "source": [
    "accuracy_score(y_test, lg_clf.predict(X_test))"
   ]
  },
  {
   "cell_type": "code",
   "execution_count": 483,
   "id": "1dbe38b5-bc5b-499a-b9fe-f78000e0aa33",
   "metadata": {
    "tags": []
   },
   "outputs": [
    {
     "data": {
      "text/plain": [
       "<AxesSubplot:>"
      ]
     },
     "execution_count": 483,
     "metadata": {},
     "output_type": "execute_result"
    },
    {
     "data": {
      "image/png": "[encoded data removed]",
      "text/plain": [
       "<Figure size 640x480 with 1 Axes>"
      ]
     },
     "metadata": {},
     "output_type": "display_data"
    }
   ],
   "source": [
    "X_train.plot.box(rot=90)"
   ]
  },
  {
   "cell_type": "code",
   "execution_count": 345,
   "id": "57df9c12-d5da-4573-b662-77b340651996",
   "metadata": {
    "tags": []
   },
   "outputs": [
    {
     "data": {
      "text/html": [
       "<div>\n",
       "<style scoped>\n",
       "    .dataframe tbody tr th:only-of-type {\n",
       "        vertical-align: middle;\n",
       "    }\n",
       "\n",
       "    .dataframe tbody tr th {\n",
       "        vertical-align: top;\n",
       "    }\n",
       "\n",
       "    .dataframe thead th {\n",
       "        text-align: right;\n",
       "    }\n",
       "</style>\n",
       "<table border=\"1\" class=\"dataframe\">\n",
       "  <thead>\n",
       "    <tr style=\"text-align: right;\">\n",
       "      <th></th>\n",
       "      <th>Age</th>\n",
       "      <th>Sex</th>\n",
       "      <th>ChestPainType</th>\n",
       "      <th>RestingBP</th>\n",
       "      <th>Cholesterol</th>\n",
       "      <th>FastingBS</th>\n",
       "      <th>RestingECG</th>\n",
       "      <th>MaxHR</th>\n",
       "      <th>ExerciseAngina</th>\n",
       "      <th>Oldpeak</th>\n",
       "      <th>ST_Slope</th>\n",
       "      <th>HeartDisease</th>\n",
       "      <th>AgeRange</th>\n",
       "    </tr>\n",
       "  </thead>\n",
       "  <tbody>\n",
       "    <tr>\n",
       "      <th>0</th>\n",
       "      <td>53</td>\n",
       "      <td>M</td>\n",
       "      <td>ASY</td>\n",
       "      <td>123</td>\n",
       "      <td>282</td>\n",
       "      <td>0</td>\n",
       "      <td>Normal</td>\n",
       "      <td>95</td>\n",
       "      <td>Y</td>\n",
       "      <td>2.0</td>\n",
       "      <td>Flat</td>\n",
       "      <td>1</td>\n",
       "      <td>50-59</td>\n",
       "    </tr>\n",
       "    <tr>\n",
       "      <th>1</th>\n",
       "      <td>59</td>\n",
       "      <td>M</td>\n",
       "      <td>ASY</td>\n",
       "      <td>138</td>\n",
       "      <td>271</td>\n",
       "      <td>0</td>\n",
       "      <td>LVH</td>\n",
       "      <td>182</td>\n",
       "      <td>N</td>\n",
       "      <td>0.0</td>\n",
       "      <td>Up</td>\n",
       "      <td>0</td>\n",
       "      <td>50-59</td>\n",
       "    </tr>\n",
       "    <tr>\n",
       "      <th>2</th>\n",
       "      <td>59</td>\n",
       "      <td>M</td>\n",
       "      <td>ASY</td>\n",
       "      <td>135</td>\n",
       "      <td>0</td>\n",
       "      <td>0</td>\n",
       "      <td>Normal</td>\n",
       "      <td>115</td>\n",
       "      <td>Y</td>\n",
       "      <td>1.0</td>\n",
       "      <td>Flat</td>\n",
       "      <td>1</td>\n",
       "      <td>50-59</td>\n",
       "    </tr>\n",
       "    <tr>\n",
       "      <th>3</th>\n",
       "      <td>55</td>\n",
       "      <td>M</td>\n",
       "      <td>TA</td>\n",
       "      <td>140</td>\n",
       "      <td>295</td>\n",
       "      <td>0</td>\n",
       "      <td>Normal</td>\n",
       "      <td>136</td>\n",
       "      <td>N</td>\n",
       "      <td>0.0</td>\n",
       "      <td>Flat</td>\n",
       "      <td>1</td>\n",
       "      <td>50-59</td>\n",
       "    </tr>\n",
       "    <tr>\n",
       "      <th>4</th>\n",
       "      <td>60</td>\n",
       "      <td>M</td>\n",
       "      <td>ASY</td>\n",
       "      <td>140</td>\n",
       "      <td>281</td>\n",
       "      <td>0</td>\n",
       "      <td>ST</td>\n",
       "      <td>118</td>\n",
       "      <td>Y</td>\n",
       "      <td>1.5</td>\n",
       "      <td>Flat</td>\n",
       "      <td>1</td>\n",
       "      <td>60-69</td>\n",
       "    </tr>\n",
       "    <tr>\n",
       "      <th>...</th>\n",
       "      <td>...</td>\n",
       "      <td>...</td>\n",
       "      <td>...</td>\n",
       "      <td>...</td>\n",
       "      <td>...</td>\n",
       "      <td>...</td>\n",
       "      <td>...</td>\n",
       "      <td>...</td>\n",
       "      <td>...</td>\n",
       "      <td>...</td>\n",
       "      <td>...</td>\n",
       "      <td>...</td>\n",
       "      <td>...</td>\n",
       "    </tr>\n",
       "    <tr>\n",
       "      <th>730</th>\n",
       "      <td>56</td>\n",
       "      <td>F</td>\n",
       "      <td>NAP</td>\n",
       "      <td>130</td>\n",
       "      <td>219</td>\n",
       "      <td>0</td>\n",
       "      <td>ST</td>\n",
       "      <td>164</td>\n",
       "      <td>N</td>\n",
       "      <td>0.0</td>\n",
       "      <td>Up</td>\n",
       "      <td>0</td>\n",
       "      <td>50-59</td>\n",
       "    </tr>\n",
       "    <tr>\n",
       "      <th>731</th>\n",
       "      <td>57</td>\n",
       "      <td>M</td>\n",
       "      <td>ASY</td>\n",
       "      <td>128</td>\n",
       "      <td>0</td>\n",
       "      <td>1</td>\n",
       "      <td>ST</td>\n",
       "      <td>148</td>\n",
       "      <td>Y</td>\n",
       "      <td>1.0</td>\n",
       "      <td>Flat</td>\n",
       "      <td>1</td>\n",
       "      <td>50-59</td>\n",
       "    </tr>\n",
       "    <tr>\n",
       "      <th>732</th>\n",
       "      <td>59</td>\n",
       "      <td>M</td>\n",
       "      <td>ASY</td>\n",
       "      <td>110</td>\n",
       "      <td>0</td>\n",
       "      <td>1</td>\n",
       "      <td>Normal</td>\n",
       "      <td>94</td>\n",
       "      <td>N</td>\n",
       "      <td>0.0</td>\n",
       "      <td>Flat</td>\n",
       "      <td>1</td>\n",
       "      <td>50-59</td>\n",
       "    </tr>\n",
       "    <tr>\n",
       "      <th>733</th>\n",
       "      <td>52</td>\n",
       "      <td>M</td>\n",
       "      <td>ASY</td>\n",
       "      <td>128</td>\n",
       "      <td>255</td>\n",
       "      <td>0</td>\n",
       "      <td>Normal</td>\n",
       "      <td>161</td>\n",
       "      <td>Y</td>\n",
       "      <td>0.0</td>\n",
       "      <td>Up</td>\n",
       "      <td>1</td>\n",
       "      <td>50-59</td>\n",
       "    </tr>\n",
       "    <tr>\n",
       "      <th>734</th>\n",
       "      <td>60</td>\n",
       "      <td>M</td>\n",
       "      <td>ASY</td>\n",
       "      <td>160</td>\n",
       "      <td>0</td>\n",
       "      <td>1</td>\n",
       "      <td>Normal</td>\n",
       "      <td>149</td>\n",
       "      <td>N</td>\n",
       "      <td>0.4</td>\n",
       "      <td>Flat</td>\n",
       "      <td>1</td>\n",
       "      <td>60-69</td>\n",
       "    </tr>\n",
       "  </tbody>\n",
       "</table>\n",
       "<p>735 rows × 13 columns</p>\n",
       "</div>"
      ],
      "text/plain": [
       "     Age Sex ChestPainType  RestingBP  Cholesterol  FastingBS RestingECG  \\\n",
       "0     53   M           ASY        123          282          0     Normal   \n",
       "1     59   M           ASY        138          271          0        LVH   \n",
       "2     59   M           ASY        135            0          0     Normal   \n",
       "3     55   M            TA        140          295          0     Normal   \n",
       "4     60   M           ASY        140          281          0         ST   \n",
       "..   ...  ..           ...        ...          ...        ...        ...   \n",
       "730   56   F           NAP        130          219          0         ST   \n",
       "731   57   M           ASY        128            0          1         ST   \n",
       "732   59   M           ASY        110            0          1     Normal   \n",
       "733   52   M           ASY        128          255          0     Normal   \n",
       "734   60   M           ASY        160            0          1     Normal   \n",
       "\n",
       "     MaxHR ExerciseAngina  Oldpeak ST_Slope  HeartDisease AgeRange  \n",
       "0       95              Y      2.0     Flat             1    50-59  \n",
       "1      182              N      0.0       Up             0    50-59  \n",
       "2      115              Y      1.0     Flat             1    50-59  \n",
       "3      136              N      0.0     Flat             1    50-59  \n",
       "4      118              Y      1.5     Flat             1    60-69  \n",
       "..     ...            ...      ...      ...           ...      ...  \n",
       "730    164              N      0.0       Up             0    50-59  \n",
       "731    148              Y      1.0     Flat             1    50-59  \n",
       "732     94              N      0.0     Flat             1    50-59  \n",
       "733    161              Y      0.0       Up             1    50-59  \n",
       "734    149              N      0.4     Flat             1    60-69  \n",
       "\n",
       "[735 rows x 13 columns]"
      ]
     },
     "execution_count": 345,
     "metadata": {},
     "output_type": "execute_result"
    }
   ],
   "source": [
    "X_train_df"
   ]
  },
  {
   "cell_type": "code",
   "execution_count": 39,
   "id": "a948edaf-7498-4360-88c1-5b1401996237",
   "metadata": {
    "tags": []
   },
   "outputs": [
    {
     "data": {
      "text/html": [
       "<div>\n",
       "<style scoped>\n",
       "    .dataframe tbody tr th:only-of-type {\n",
       "        vertical-align: middle;\n",
       "    }\n",
       "\n",
       "    .dataframe tbody tr th {\n",
       "        vertical-align: top;\n",
       "    }\n",
       "\n",
       "    .dataframe thead th {\n",
       "        text-align: right;\n",
       "    }\n",
       "</style>\n",
       "<table border=\"1\" class=\"dataframe\">\n",
       "  <thead>\n",
       "    <tr style=\"text-align: right;\">\n",
       "      <th></th>\n",
       "      <th>ASY</th>\n",
       "      <th>ATA</th>\n",
       "      <th>NAP</th>\n",
       "      <th>TA</th>\n",
       "    </tr>\n",
       "  </thead>\n",
       "  <tbody>\n",
       "    <tr>\n",
       "      <th>0</th>\n",
       "      <td>0</td>\n",
       "      <td>1</td>\n",
       "      <td>0</td>\n",
       "      <td>0</td>\n",
       "    </tr>\n",
       "    <tr>\n",
       "      <th>1</th>\n",
       "      <td>0</td>\n",
       "      <td>0</td>\n",
       "      <td>1</td>\n",
       "      <td>0</td>\n",
       "    </tr>\n",
       "    <tr>\n",
       "      <th>2</th>\n",
       "      <td>0</td>\n",
       "      <td>1</td>\n",
       "      <td>0</td>\n",
       "      <td>0</td>\n",
       "    </tr>\n",
       "    <tr>\n",
       "      <th>3</th>\n",
       "      <td>1</td>\n",
       "      <td>0</td>\n",
       "      <td>0</td>\n",
       "      <td>0</td>\n",
       "    </tr>\n",
       "    <tr>\n",
       "      <th>4</th>\n",
       "      <td>0</td>\n",
       "      <td>0</td>\n",
       "      <td>1</td>\n",
       "      <td>0</td>\n",
       "    </tr>\n",
       "    <tr>\n",
       "      <th>...</th>\n",
       "      <td>...</td>\n",
       "      <td>...</td>\n",
       "      <td>...</td>\n",
       "      <td>...</td>\n",
       "    </tr>\n",
       "    <tr>\n",
       "      <th>913</th>\n",
       "      <td>0</td>\n",
       "      <td>0</td>\n",
       "      <td>0</td>\n",
       "      <td>1</td>\n",
       "    </tr>\n",
       "    <tr>\n",
       "      <th>914</th>\n",
       "      <td>1</td>\n",
       "      <td>0</td>\n",
       "      <td>0</td>\n",
       "      <td>0</td>\n",
       "    </tr>\n",
       "    <tr>\n",
       "      <th>915</th>\n",
       "      <td>1</td>\n",
       "      <td>0</td>\n",
       "      <td>0</td>\n",
       "      <td>0</td>\n",
       "    </tr>\n",
       "    <tr>\n",
       "      <th>916</th>\n",
       "      <td>0</td>\n",
       "      <td>1</td>\n",
       "      <td>0</td>\n",
       "      <td>0</td>\n",
       "    </tr>\n",
       "    <tr>\n",
       "      <th>917</th>\n",
       "      <td>0</td>\n",
       "      <td>0</td>\n",
       "      <td>1</td>\n",
       "      <td>0</td>\n",
       "    </tr>\n",
       "  </tbody>\n",
       "</table>\n",
       "<p>918 rows × 4 columns</p>\n",
       "</div>"
      ],
      "text/plain": [
       "     ASY  ATA  NAP  TA\n",
       "0      0    1    0   0\n",
       "1      0    0    1   0\n",
       "2      0    1    0   0\n",
       "3      1    0    0   0\n",
       "4      0    0    1   0\n",
       "..   ...  ...  ...  ..\n",
       "913    0    0    0   1\n",
       "914    1    0    0   0\n",
       "915    1    0    0   0\n",
       "916    0    1    0   0\n",
       "917    0    0    1   0\n",
       "\n",
       "[918 rows x 4 columns]"
      ]
     },
     "execution_count": 39,
     "metadata": {},
     "output_type": "execute_result"
    }
   ],
   "source": [
    "pd.get_dummies(dataset['ChestPainType'])"
   ]
  },
  {
   "cell_type": "code",
   "execution_count": null,
   "id": "5e19cc92-5cd5-4619-8b14-8eb360b1ff95",
   "metadata": {},
   "outputs": [],
   "source": []
  },
  {
   "cell_type": "code",
   "execution_count": 84,
   "id": "7572021f-3655-4983-92db-083334aac071",
   "metadata": {
    "tags": []
   },
   "outputs": [
    {
     "data": {
      "text/plain": [
       "OneHotEncoder()"
      ]
     },
     "execution_count": 84,
     "metadata": {},
     "output_type": "execute_result"
    }
   ],
   "source": [
    "one_hot_for_CPT = OneHotEncoder()\n",
    "one_hot_for_CPT.fit(dataset['ChestPainType'].values.reshape(-1,1))"
   ]
  },
  {
   "cell_type": "code",
   "execution_count": 85,
   "id": "c3721fc9-5f92-44b0-b194-558632527c09",
   "metadata": {
    "tags": []
   },
   "outputs": [
    {
     "data": {
      "text/plain": [
       "array([[0., 1., 0., 0.],\n",
       "       [0., 0., 1., 0.],\n",
       "       [0., 1., 0., 0.],\n",
       "       ...,\n",
       "       [1., 0., 0., 0.],\n",
       "       [0., 1., 0., 0.],\n",
       "       [0., 0., 1., 0.]])"
      ]
     },
     "execution_count": 85,
     "metadata": {},
     "output_type": "execute_result"
    }
   ],
   "source": [
    "one_hot_for_CPT.transform(dataset['ChestPainType'].values.reshape(-1,1)).toarray()"
   ]
  },
  {
   "cell_type": "code",
   "execution_count": 86,
   "id": "56e0d865-be61-4626-81c4-9365bc0a79ca",
   "metadata": {
    "tags": []
   },
   "outputs": [
    {
     "data": {
      "text/plain": [
       "[array(['ASY', 'ATA', 'NAP', 'TA'], dtype=object)]"
      ]
     },
     "execution_count": 86,
     "metadata": {},
     "output_type": "execute_result"
    }
   ],
   "source": [
    "one_hot_for_CPT.categories_"
   ]
  },
  {
   "cell_type": "code",
   "execution_count": null,
   "id": "ec50deb7-e176-40a8-b1ec-022e1616b29b",
   "metadata": {},
   "outputs": [],
   "source": []
  }
 ],
 "metadata": {
  "kernelspec": {
   "display_name": "Python 3 (ipykernel)",
   "language": "python",
   "name": "python3"
  },
  "language_info": {
   "codemirror_mode": {
    "name": "ipython",
    "version": 3
   },
   "file_extension": ".py",
   "mimetype": "text/x-python",
   "name": "python",
   "nbconvert_exporter": "python",
   "pygments_lexer": "ipython3",
   "version": "3.7.16"
  }
 },
 "nbformat": 4,
 "nbformat_minor": 5
}
