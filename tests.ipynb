{
 "cells": [
  {
   "cell_type": "code",
   "execution_count": 1,
   "id": "d678bfe3-7760-42db-88e7-820d32a0fc6c",
   "metadata": {
    "tags": []
   },
   "outputs": [],
   "source": [
    "import numpy as np"
   ]
  },
  {
   "cell_type": "code",
   "execution_count": 3,
   "id": "0b8e3456-6f8f-4da1-b732-959d239ce3a7",
   "metadata": {
    "tags": []
   },
   "outputs": [],
   "source": [
    "a = np.empty((3,3))"
   ]
  },
  {
   "cell_type": "code",
   "execution_count": 4,
   "id": "91e196cc-0cc0-45f2-9102-4f54fc5087ac",
   "metadata": {
    "tags": []
   },
   "outputs": [
    {
     "data": {
      "text/plain": [
       "array([[0.00000000e+000, 0.00000000e+000, 0.00000000e+000],\n",
       "       [0.00000000e+000, 0.00000000e+000, 7.66789882e-321],\n",
       "       [1.24561153e-311, 2.00485144e-307, 0.00000000e+000]])"
      ]
     },
     "execution_count": 4,
     "metadata": {},
     "output_type": "execute_result"
    }
   ],
   "source": [
    "a"
   ]
  },
  {
   "cell_type": "code",
   "execution_count": 5,
   "id": "5b8970a9-2788-4da1-8f6f-065ed639fb7f",
   "metadata": {
    "tags": []
   },
   "outputs": [],
   "source": [
    "a.fill(1)"
   ]
  },
  {
   "cell_type": "code",
   "execution_count": 6,
   "id": "29836e0d-a78d-4a6d-9312-0ed09fba449b",
   "metadata": {
    "tags": []
   },
   "outputs": [
    {
     "data": {
      "text/plain": [
       "array([[1., 1., 1.],\n",
       "       [1., 1., 1.],\n",
       "       [1., 1., 1.]])"
      ]
     },
     "execution_count": 6,
     "metadata": {},
     "output_type": "execute_result"
    }
   ],
   "source": [
    "a"
   ]
  },
  {
   "cell_type": "code",
   "execution_count": 7,
   "id": "10d888c1-778a-4a23-a863-e19d9cfc8a09",
   "metadata": {
    "tags": []
   },
   "outputs": [
    {
     "data": {
      "text/plain": [
       "(3, 3)"
      ]
     },
     "execution_count": 7,
     "metadata": {},
     "output_type": "execute_result"
    }
   ],
   "source": [
    "a.shape"
   ]
  },
  {
   "cell_type": "code",
   "execution_count": 15,
   "id": "b4ed30ca-3206-4d18-a76f-e706e9050dc1",
   "metadata": {
    "tags": []
   },
   "outputs": [
    {
     "data": {
      "text/plain": [
       "array([[[1., 1., 1.],\n",
       "        [1., 1., 1.],\n",
       "        [1., 1., 1.]]])"
      ]
     },
     "execution_count": 15,
     "metadata": {},
     "output_type": "execute_result"
    }
   ],
   "source": [
    "a[np.newaxis,:]"
   ]
  },
  {
   "cell_type": "code",
   "execution_count": 9,
   "id": "02d9f7d7-c782-4332-9dea-8d366a080e5e",
   "metadata": {
    "tags": []
   },
   "outputs": [
    {
     "data": {
      "text/plain": [
       "(3, 3)"
      ]
     },
     "execution_count": 9,
     "metadata": {},
     "output_type": "execute_result"
    }
   ],
   "source": [
    "a.shape"
   ]
  },
  {
   "cell_type": "code",
   "execution_count": 16,
   "id": "db8ec9ee-835a-4482-9055-74ed1e8e1d4b",
   "metadata": {
    "tags": []
   },
   "outputs": [
    {
     "data": {
      "text/plain": [
       "\u001b[1;31mSignature:\u001b[0m\n",
       "\u001b[0mnp\u001b[0m\u001b[1;33m.\u001b[0m\u001b[0mlinspace\u001b[0m\u001b[1;33m(\u001b[0m\u001b[1;33m\n",
       "\u001b[0m    \u001b[0mstart\u001b[0m\u001b[1;33m,\u001b[0m\u001b[1;33m\n",
       "\u001b[0m    \u001b[0mstop\u001b[0m\u001b[1;33m,\u001b[0m\u001b[1;33m\n",
       "\u001b[0m    \u001b[0mnum\u001b[0m\u001b[1;33m=\u001b[0m\u001b[1;36m50\u001b[0m\u001b[1;33m,\u001b[0m\u001b[1;33m\n",
       "\u001b[0m    \u001b[0mendpoint\u001b[0m\u001b[1;33m=\u001b[0m\u001b[1;32mTrue\u001b[0m\u001b[1;33m,\u001b[0m\u001b[1;33m\n",
       "\u001b[0m    \u001b[0mretstep\u001b[0m\u001b[1;33m=\u001b[0m\u001b[1;32mFalse\u001b[0m\u001b[1;33m,\u001b[0m\u001b[1;33m\n",
       "\u001b[0m    \u001b[0mdtype\u001b[0m\u001b[1;33m=\u001b[0m\u001b[1;32mNone\u001b[0m\u001b[1;33m,\u001b[0m\u001b[1;33m\n",
       "\u001b[0m    \u001b[0maxis\u001b[0m\u001b[1;33m=\u001b[0m\u001b[1;36m0\u001b[0m\u001b[1;33m,\u001b[0m\u001b[1;33m\n",
       "\u001b[0m\u001b[1;33m)\u001b[0m\u001b[1;33m\u001b[0m\u001b[1;33m\u001b[0m\u001b[0m\n",
       "\u001b[1;31mDocstring:\u001b[0m\n",
       "Return evenly spaced numbers over a specified interval.\n",
       "\n",
       "Returns `num` evenly spaced samples, calculated over the\n",
       "interval [`start`, `stop`].\n",
       "\n",
       "The endpoint of the interval can optionally be excluded.\n",
       "\n",
       ".. versionchanged:: 1.16.0\n",
       "    Non-scalar `start` and `stop` are now supported.\n",
       "\n",
       ".. versionchanged:: 1.20.0\n",
       "    Values are rounded towards ``-inf`` instead of ``0`` when an\n",
       "    integer ``dtype`` is specified. The old behavior can\n",
       "    still be obtained with ``np.linspace(start, stop, num).astype(int)``\n",
       "\n",
       "Parameters\n",
       "----------\n",
       "start : array_like\n",
       "    The starting value of the sequence.\n",
       "stop : array_like\n",
       "    The end value of the sequence, unless `endpoint` is set to False.\n",
       "    In that case, the sequence consists of all but the last of ``num + 1``\n",
       "    evenly spaced samples, so that `stop` is excluded.  Note that the step\n",
       "    size changes when `endpoint` is False.\n",
       "num : int, optional\n",
       "    Number of samples to generate. Default is 50. Must be non-negative.\n",
       "endpoint : bool, optional\n",
       "    If True, `stop` is the last sample. Otherwise, it is not included.\n",
       "    Default is True.\n",
       "retstep : bool, optional\n",
       "    If True, return (`samples`, `step`), where `step` is the spacing\n",
       "    between samples.\n",
       "dtype : dtype, optional\n",
       "    The type of the output array.  If `dtype` is not given, the data type\n",
       "    is inferred from `start` and `stop`. The inferred dtype will never be\n",
       "    an integer; `float` is chosen even if the arguments would produce an\n",
       "    array of integers.\n",
       "\n",
       "    .. versionadded:: 1.9.0\n",
       "\n",
       "axis : int, optional\n",
       "    The axis in the result to store the samples.  Relevant only if start\n",
       "    or stop are array-like.  By default (0), the samples will be along a\n",
       "    new axis inserted at the beginning. Use -1 to get an axis at the end.\n",
       "\n",
       "    .. versionadded:: 1.16.0\n",
       "\n",
       "Returns\n",
       "-------\n",
       "samples : ndarray\n",
       "    There are `num` equally spaced samples in the closed interval\n",
       "    ``[start, stop]`` or the half-open interval ``[start, stop)``\n",
       "    (depending on whether `endpoint` is True or False).\n",
       "step : float, optional\n",
       "    Only returned if `retstep` is True\n",
       "\n",
       "    Size of spacing between samples.\n",
       "\n",
       "\n",
       "See Also\n",
       "--------\n",
       "arange : Similar to `linspace`, but uses a step size (instead of the\n",
       "         number of samples).\n",
       "geomspace : Similar to `linspace`, but with numbers spaced evenly on a log\n",
       "            scale (a geometric progression).\n",
       "logspace : Similar to `geomspace`, but with the end points specified as\n",
       "           logarithms.\n",
       "\n",
       "Examples\n",
       "--------\n",
       ">>> np.linspace(2.0, 3.0, num=5)\n",
       "array([2.  , 2.25, 2.5 , 2.75, 3.  ])\n",
       ">>> np.linspace(2.0, 3.0, num=5, endpoint=False)\n",
       "array([2. ,  2.2,  2.4,  2.6,  2.8])\n",
       ">>> np.linspace(2.0, 3.0, num=5, retstep=True)\n",
       "(array([2.  ,  2.25,  2.5 ,  2.75,  3.  ]), 0.25)\n",
       "\n",
       "Graphical illustration:\n",
       "\n",
       ">>> import matplotlib.pyplot as plt\n",
       ">>> N = 8\n",
       ">>> y = np.zeros(N)\n",
       ">>> x1 = np.linspace(0, 10, N, endpoint=True)\n",
       ">>> x2 = np.linspace(0, 10, N, endpoint=False)\n",
       ">>> plt.plot(x1, y, 'o')\n",
       "[<matplotlib.lines.Line2D object at 0x...>]\n",
       ">>> plt.plot(x2, y + 0.5, 'o')\n",
       "[<matplotlib.lines.Line2D object at 0x...>]\n",
       ">>> plt.ylim([-0.5, 1])\n",
       "(-0.5, 1)\n",
       ">>> plt.show()\n",
       "\u001b[1;31mFile:\u001b[0m      d:\\projects\\machine_learning_projects\\venv\\lib\\site-packages\\numpy\\core\\function_base.py\n",
       "\u001b[1;31mType:\u001b[0m      function\n"
      ]
     },
     "metadata": {},
     "output_type": "display_data"
    }
   ],
   "source": [
    "np.linspace?"
   ]
  },
  {
   "cell_type": "code",
   "execution_count": 23,
   "id": "a5e3e052-ca76-4cae-8294-ac3fd0c62a40",
   "metadata": {
    "tags": []
   },
   "outputs": [],
   "source": [
    "def temperature(temperatures):\n",
    "    result = []\n",
    "    dtw = 0\n",
    "    for i,t in enumerate(temperatures):\n",
    "        if i == len(temperatures)-1:\n",
    "            result.append(0)\n",
    "            return result\n",
    "        for j,tnext in enumerate(temperatures[i+1:]):\n",
    "            if tnext>t:\n",
    "                dtw = j+1\n",
    "                break\n",
    "        result.append(dtw)\n",
    "        dtw = 0\n",
    "    return result"
   ]
  },
  {
   "cell_type": "code",
   "execution_count": 24,
   "id": "9e1b820e-5212-4fbe-b3b8-402fd4076754",
   "metadata": {
    "tags": []
   },
   "outputs": [
    {
     "data": {
      "text/plain": [
       "[1, 2, 1, 0, 0]"
      ]
     },
     "execution_count": 24,
     "metadata": {},
     "output_type": "execute_result"
    }
   ],
   "source": [
    "temperature([22,23,21,25,23])"
   ]
  },
  {
   "cell_type": "code",
   "execution_count": 25,
   "id": "b374de89-70b6-41be-8446-df782113440c",
   "metadata": {
    "tags": []
   },
   "outputs": [
    {
     "data": {
      "text/plain": [
       "[1, 3, 1, 1, 0, 0]"
      ]
     },
     "execution_count": 25,
     "metadata": {},
     "output_type": "execute_result"
    }
   ],
   "source": [
    "temperature([21,22,21,22,25,21])"
   ]
  },
  {
   "cell_type": "code",
   "execution_count": 26,
   "id": "2900977b-9886-43f6-8501-e7005e2a3112",
   "metadata": {
    "tags": []
   },
   "outputs": [
    {
     "data": {
      "text/plain": [
       "[1, 2, 1, 1, 0]"
      ]
     },
     "execution_count": 26,
     "metadata": {},
     "output_type": "execute_result"
    }
   ],
   "source": [
    "temperature([-8,-7,-8,-5,-4])"
   ]
  },
  {
   "cell_type": "code",
   "execution_count": 27,
   "id": "292cbcdb-e0a3-41e0-b92e-81fae03f95cf",
   "metadata": {
    "tags": []
   },
   "outputs": [
    {
     "data": {
      "text/plain": [
       "2"
      ]
     },
     "execution_count": 27,
     "metadata": {},
     "output_type": "execute_result"
    }
   ],
   "source": [
    "5//2"
   ]
  },
  {
   "cell_type": "code",
   "execution_count": 29,
   "id": "7d4ffbff-4970-4a42-84d7-1d95395cd775",
   "metadata": {
    "tags": []
   },
   "outputs": [
    {
     "data": {
      "text/plain": [
       "[2, 3, 4]"
      ]
     },
     "execution_count": 29,
     "metadata": {},
     "output_type": "execute_result"
    }
   ],
   "source": [
    "a = [4,2,3,4]\n",
    "a.remove(4)\n",
    "a"
   ]
  },
  {
   "cell_type": "code",
   "execution_count": 30,
   "id": "90392570-57b8-4bca-862d-c7d7447b0893",
   "metadata": {
    "tags": []
   },
   "outputs": [],
   "source": [
    "import pandas as pd"
   ]
  },
  {
   "cell_type": "code",
   "execution_count": 31,
   "id": "74fc37c5-3007-4770-980e-683d64f7eeee",
   "metadata": {
    "tags": []
   },
   "outputs": [],
   "source": [
    "a = pd.DataFrame({'a': [1,2,3,4,5], 'b': [7,5,4,3,2]})"
   ]
  },
  {
   "cell_type": "code",
   "execution_count": 32,
   "id": "2b170e77-a558-4af3-b46e-cb1ecdff3b04",
   "metadata": {
    "tags": []
   },
   "outputs": [
    {
     "data": {
      "text/html": [
       "<div>\n",
       "<style scoped>\n",
       "    .dataframe tbody tr th:only-of-type {\n",
       "        vertical-align: middle;\n",
       "    }\n",
       "\n",
       "    .dataframe tbody tr th {\n",
       "        vertical-align: top;\n",
       "    }\n",
       "\n",
       "    .dataframe thead th {\n",
       "        text-align: right;\n",
       "    }\n",
       "</style>\n",
       "<table border=\"1\" class=\"dataframe\">\n",
       "  <thead>\n",
       "    <tr style=\"text-align: right;\">\n",
       "      <th></th>\n",
       "      <th>a</th>\n",
       "      <th>b</th>\n",
       "    </tr>\n",
       "  </thead>\n",
       "  <tbody>\n",
       "    <tr>\n",
       "      <th>0</th>\n",
       "      <td>1</td>\n",
       "      <td>7</td>\n",
       "    </tr>\n",
       "    <tr>\n",
       "      <th>1</th>\n",
       "      <td>2</td>\n",
       "      <td>5</td>\n",
       "    </tr>\n",
       "    <tr>\n",
       "      <th>2</th>\n",
       "      <td>3</td>\n",
       "      <td>4</td>\n",
       "    </tr>\n",
       "    <tr>\n",
       "      <th>3</th>\n",
       "      <td>4</td>\n",
       "      <td>3</td>\n",
       "    </tr>\n",
       "    <tr>\n",
       "      <th>4</th>\n",
       "      <td>5</td>\n",
       "      <td>2</td>\n",
       "    </tr>\n",
       "  </tbody>\n",
       "</table>\n",
       "</div>"
      ],
      "text/plain": [
       "   a  b\n",
       "0  1  7\n",
       "1  2  5\n",
       "2  3  4\n",
       "3  4  3\n",
       "4  5  2"
      ]
     },
     "execution_count": 32,
     "metadata": {},
     "output_type": "execute_result"
    }
   ],
   "source": [
    "a"
   ]
  },
  {
   "cell_type": "code",
   "execution_count": 35,
   "id": "16d9dc9e-581b-463b-a9b0-c3f58b07de8f",
   "metadata": {
    "tags": []
   },
   "outputs": [
    {
     "data": {
      "text/plain": [
       "0    1\n",
       "1    2\n",
       "2    3\n",
       "3    4\n",
       "4    5\n",
       "Name: a, dtype: int64"
      ]
     },
     "execution_count": 35,
     "metadata": {},
     "output_type": "execute_result"
    }
   ],
   "source": [
    "a.iloc[:,0]"
   ]
  },
  {
   "cell_type": "code",
   "execution_count": 36,
   "id": "07070935-53a6-4b7a-89d8-09c6c7e49282",
   "metadata": {
    "tags": []
   },
   "outputs": [
    {
     "data": {
      "text/plain": [
       "\u001b[1;31mSignature:\u001b[0m\n",
       "\u001b[0ma\u001b[0m\u001b[1;33m.\u001b[0m\u001b[0mreset_index\u001b[0m\u001b[1;33m(\u001b[0m\u001b[1;33m\n",
       "\u001b[0m    \u001b[0mlevel\u001b[0m\u001b[1;33m:\u001b[0m \u001b[1;34m'Hashable | Sequence[Hashable] | None'\u001b[0m \u001b[1;33m=\u001b[0m \u001b[1;32mNone\u001b[0m\u001b[1;33m,\u001b[0m\u001b[1;33m\n",
       "\u001b[0m    \u001b[0mdrop\u001b[0m\u001b[1;33m:\u001b[0m \u001b[1;34m'bool'\u001b[0m \u001b[1;33m=\u001b[0m \u001b[1;32mFalse\u001b[0m\u001b[1;33m,\u001b[0m\u001b[1;33m\n",
       "\u001b[0m    \u001b[0minplace\u001b[0m\u001b[1;33m:\u001b[0m \u001b[1;34m'bool'\u001b[0m \u001b[1;33m=\u001b[0m \u001b[1;32mFalse\u001b[0m\u001b[1;33m,\u001b[0m\u001b[1;33m\n",
       "\u001b[0m    \u001b[0mcol_level\u001b[0m\u001b[1;33m:\u001b[0m \u001b[1;34m'Hashable'\u001b[0m \u001b[1;33m=\u001b[0m \u001b[1;36m0\u001b[0m\u001b[1;33m,\u001b[0m\u001b[1;33m\n",
       "\u001b[0m    \u001b[0mcol_fill\u001b[0m\u001b[1;33m:\u001b[0m \u001b[1;34m'Hashable'\u001b[0m \u001b[1;33m=\u001b[0m \u001b[1;34m''\u001b[0m\u001b[1;33m,\u001b[0m\u001b[1;33m\n",
       "\u001b[0m\u001b[1;33m)\u001b[0m \u001b[1;33m->\u001b[0m \u001b[1;34m'DataFrame | None'\u001b[0m\u001b[1;33m\u001b[0m\u001b[1;33m\u001b[0m\u001b[0m\n",
       "\u001b[1;31mDocstring:\u001b[0m\n",
       "Reset the index, or a level of it.\n",
       "\n",
       "Reset the index of the DataFrame, and use the default one instead.\n",
       "If the DataFrame has a MultiIndex, this method can remove one or more\n",
       "levels.\n",
       "\n",
       "Parameters\n",
       "----------\n",
       "level : int, str, tuple, or list, default None\n",
       "    Only remove the given levels from the index. Removes all levels by\n",
       "    default.\n",
       "drop : bool, default False\n",
       "    Do not try to insert index into dataframe columns. This resets\n",
       "    the index to the default integer index.\n",
       "inplace : bool, default False\n",
       "    Modify the DataFrame in place (do not create a new object).\n",
       "col_level : int or str, default 0\n",
       "    If the columns have multiple levels, determines which level the\n",
       "    labels are inserted into. By default it is inserted into the first\n",
       "    level.\n",
       "col_fill : object, default ''\n",
       "    If the columns have multiple levels, determines how the other\n",
       "    levels are named. If None then the index name is repeated.\n",
       "\n",
       "Returns\n",
       "-------\n",
       "DataFrame or None\n",
       "    DataFrame with the new index or None if ``inplace=True``.\n",
       "\n",
       "See Also\n",
       "--------\n",
       "DataFrame.set_index : Opposite of reset_index.\n",
       "DataFrame.reindex : Change to new indices or expand indices.\n",
       "DataFrame.reindex_like : Change to same indices as other DataFrame.\n",
       "\n",
       "Examples\n",
       "--------\n",
       ">>> df = pd.DataFrame([('bird', 389.0),\n",
       "...                    ('bird', 24.0),\n",
       "...                    ('mammal', 80.5),\n",
       "...                    ('mammal', np.nan)],\n",
       "...                   index=['falcon', 'parrot', 'lion', 'monkey'],\n",
       "...                   columns=('class', 'max_speed'))\n",
       ">>> df\n",
       "         class  max_speed\n",
       "falcon    bird      389.0\n",
       "parrot    bird       24.0\n",
       "lion    mammal       80.5\n",
       "monkey  mammal        NaN\n",
       "\n",
       "When we reset the index, the old index is added as a column, and a\n",
       "new sequential index is used:\n",
       "\n",
       ">>> df.reset_index()\n",
       "    index   class  max_speed\n",
       "0  falcon    bird      389.0\n",
       "1  parrot    bird       24.0\n",
       "2    lion  mammal       80.5\n",
       "3  monkey  mammal        NaN\n",
       "\n",
       "We can use the `drop` parameter to avoid the old index being added as\n",
       "a column:\n",
       "\n",
       ">>> df.reset_index(drop=True)\n",
       "    class  max_speed\n",
       "0    bird      389.0\n",
       "1    bird       24.0\n",
       "2  mammal       80.5\n",
       "3  mammal        NaN\n",
       "\n",
       "You can also use `reset_index` with `MultiIndex`.\n",
       "\n",
       ">>> index = pd.MultiIndex.from_tuples([('bird', 'falcon'),\n",
       "...                                    ('bird', 'parrot'),\n",
       "...                                    ('mammal', 'lion'),\n",
       "...                                    ('mammal', 'monkey')],\n",
       "...                                   names=['class', 'name'])\n",
       ">>> columns = pd.MultiIndex.from_tuples([('speed', 'max'),\n",
       "...                                      ('species', 'type')])\n",
       ">>> df = pd.DataFrame([(389.0, 'fly'),\n",
       "...                    ( 24.0, 'fly'),\n",
       "...                    ( 80.5, 'run'),\n",
       "...                    (np.nan, 'jump')],\n",
       "...                   index=index,\n",
       "...                   columns=columns)\n",
       ">>> df\n",
       "               speed species\n",
       "                 max    type\n",
       "class  name\n",
       "bird   falcon  389.0     fly\n",
       "       parrot   24.0     fly\n",
       "mammal lion     80.5     run\n",
       "       monkey    NaN    jump\n",
       "\n",
       "If the index has multiple levels, we can reset a subset of them:\n",
       "\n",
       ">>> df.reset_index(level='class')\n",
       "         class  speed species\n",
       "                  max    type\n",
       "name\n",
       "falcon    bird  389.0     fly\n",
       "parrot    bird   24.0     fly\n",
       "lion    mammal   80.5     run\n",
       "monkey  mammal    NaN    jump\n",
       "\n",
       "If we are not dropping the index, by default, it is placed in the top\n",
       "level. We can place it in another level:\n",
       "\n",
       ">>> df.reset_index(level='class', col_level=1)\n",
       "                speed species\n",
       "         class    max    type\n",
       "name\n",
       "falcon    bird  389.0     fly\n",
       "parrot    bird   24.0     fly\n",
       "lion    mammal   80.5     run\n",
       "monkey  mammal    NaN    jump\n",
       "\n",
       "When the index is inserted under another level, we can specify under\n",
       "which one with the parameter `col_fill`:\n",
       "\n",
       ">>> df.reset_index(level='class', col_level=1, col_fill='species')\n",
       "              species  speed species\n",
       "                class    max    type\n",
       "name\n",
       "falcon           bird  389.0     fly\n",
       "parrot           bird   24.0     fly\n",
       "lion           mammal   80.5     run\n",
       "monkey         mammal    NaN    jump\n",
       "\n",
       "If we specify a nonexistent level for `col_fill`, it is created:\n",
       "\n",
       ">>> df.reset_index(level='class', col_level=1, col_fill='genus')\n",
       "                genus  speed species\n",
       "                class    max    type\n",
       "name\n",
       "falcon           bird  389.0     fly\n",
       "parrot           bird   24.0     fly\n",
       "lion           mammal   80.5     run\n",
       "monkey         mammal    NaN    jump\n",
       "\u001b[1;31mFile:\u001b[0m      d:\\projects\\machine_learning_projects\\venv\\lib\\site-packages\\pandas\\core\\frame.py\n",
       "\u001b[1;31mType:\u001b[0m      method\n"
      ]
     },
     "metadata": {},
     "output_type": "display_data"
    }
   ],
   "source": [
    "a.reset_index?"
   ]
  },
  {
   "cell_type": "code",
   "execution_count": null,
   "id": "695c8cb8-2826-490c-b43e-79ca91e0410b",
   "metadata": {},
   "outputs": [],
   "source": []
  }
 ],
 "metadata": {
  "kernelspec": {
   "display_name": "Python 3 (ipykernel)",
   "language": "python",
   "name": "python3"
  },
  "language_info": {
   "codemirror_mode": {
    "name": "ipython",
    "version": 3
   },
   "file_extension": ".py",
   "mimetype": "text/x-python",
   "name": "python",
   "nbconvert_exporter": "python",
   "pygments_lexer": "ipython3",
   "version": "3.7.16"
  }
 },
 "nbformat": 4,
 "nbformat_minor": 5
}
